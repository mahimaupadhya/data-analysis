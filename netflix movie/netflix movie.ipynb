{
 "cells": [
  {
   "cell_type": "markdown",
   "metadata": {},
   "source": [
    "# Netflix movie\n",
    "## About the data\n",
    "Link to the data:\n",
    "\n",
    "\n",
    "## Aim of this visualization\n",
    "Through this visualization, we can get some intresting insights on the content of netflix, like:\n",
    "1: What are the top genres in netflix\n",
    "2: Most popular genre country wise\n",
    "3: TV shows and movies released each year\n",
    "4: Content type on netflix\n"
   ]
  },
  {
   "cell_type": "code",
   "execution_count": 197,
   "metadata": {},
   "outputs": [],
   "source": [
    "import pandas as pd\n",
    "import numpy as np\n",
    "import matplotlib.pyplot as plt\n",
    "import plotly.express as px"
   ]
  },
  {
   "cell_type": "code",
   "execution_count": 109,
   "metadata": {},
   "outputs": [],
   "source": [
    "df=pd.read_csv('netflix_titles.csv',header=0)"
   ]
  },
  {
   "cell_type": "code",
   "execution_count": 110,
   "metadata": {},
   "outputs": [
    {
     "data": {
      "text/html": [
       "<div>\n",
       "<style scoped>\n",
       "    .dataframe tbody tr th:only-of-type {\n",
       "        vertical-align: middle;\n",
       "    }\n",
       "\n",
       "    .dataframe tbody tr th {\n",
       "        vertical-align: top;\n",
       "    }\n",
       "\n",
       "    .dataframe thead th {\n",
       "        text-align: right;\n",
       "    }\n",
       "</style>\n",
       "<table border=\"1\" class=\"dataframe\">\n",
       "  <thead>\n",
       "    <tr style=\"text-align: right;\">\n",
       "      <th></th>\n",
       "      <th>show_id</th>\n",
       "      <th>type</th>\n",
       "      <th>title</th>\n",
       "      <th>director</th>\n",
       "      <th>cast</th>\n",
       "      <th>country</th>\n",
       "      <th>date_added</th>\n",
       "      <th>release_year</th>\n",
       "      <th>rating</th>\n",
       "      <th>duration</th>\n",
       "      <th>listed_in</th>\n",
       "      <th>description</th>\n",
       "    </tr>\n",
       "  </thead>\n",
       "  <tbody>\n",
       "    <tr>\n",
       "      <th>0</th>\n",
       "      <td>81145628</td>\n",
       "      <td>Movie</td>\n",
       "      <td>Norm of the North: King Sized Adventure</td>\n",
       "      <td>Richard Finn, Tim Maltby</td>\n",
       "      <td>Alan Marriott, Andrew Toth, Brian Dobson, Cole...</td>\n",
       "      <td>United States, India, South Korea, China</td>\n",
       "      <td>September 9, 2019</td>\n",
       "      <td>2019</td>\n",
       "      <td>TV-PG</td>\n",
       "      <td>90 min</td>\n",
       "      <td>Children &amp; Family Movies, Comedies</td>\n",
       "      <td>Before planning an awesome wedding for his gra...</td>\n",
       "    </tr>\n",
       "    <tr>\n",
       "      <th>1</th>\n",
       "      <td>80117401</td>\n",
       "      <td>Movie</td>\n",
       "      <td>Jandino: Whatever it Takes</td>\n",
       "      <td>NaN</td>\n",
       "      <td>Jandino Asporaat</td>\n",
       "      <td>United Kingdom</td>\n",
       "      <td>September 9, 2016</td>\n",
       "      <td>2016</td>\n",
       "      <td>TV-MA</td>\n",
       "      <td>94 min</td>\n",
       "      <td>Stand-Up Comedy</td>\n",
       "      <td>Jandino Asporaat riffs on the challenges of ra...</td>\n",
       "    </tr>\n",
       "    <tr>\n",
       "      <th>2</th>\n",
       "      <td>70234439</td>\n",
       "      <td>TV Show</td>\n",
       "      <td>Transformers Prime</td>\n",
       "      <td>NaN</td>\n",
       "      <td>Peter Cullen, Sumalee Montano, Frank Welker, J...</td>\n",
       "      <td>United States</td>\n",
       "      <td>September 8, 2018</td>\n",
       "      <td>2013</td>\n",
       "      <td>TV-Y7-FV</td>\n",
       "      <td>1 Season</td>\n",
       "      <td>Kids' TV</td>\n",
       "      <td>With the help of three human allies, the Autob...</td>\n",
       "    </tr>\n",
       "    <tr>\n",
       "      <th>3</th>\n",
       "      <td>80058654</td>\n",
       "      <td>TV Show</td>\n",
       "      <td>Transformers: Robots in Disguise</td>\n",
       "      <td>NaN</td>\n",
       "      <td>Will Friedle, Darren Criss, Constance Zimmer, ...</td>\n",
       "      <td>United States</td>\n",
       "      <td>September 8, 2018</td>\n",
       "      <td>2016</td>\n",
       "      <td>TV-Y7</td>\n",
       "      <td>1 Season</td>\n",
       "      <td>Kids' TV</td>\n",
       "      <td>When a prison ship crash unleashes hundreds of...</td>\n",
       "    </tr>\n",
       "    <tr>\n",
       "      <th>4</th>\n",
       "      <td>80125979</td>\n",
       "      <td>Movie</td>\n",
       "      <td>#realityhigh</td>\n",
       "      <td>Fernando Lebrija</td>\n",
       "      <td>Nesta Cooper, Kate Walsh, John Michael Higgins...</td>\n",
       "      <td>United States</td>\n",
       "      <td>September 8, 2017</td>\n",
       "      <td>2017</td>\n",
       "      <td>TV-14</td>\n",
       "      <td>99 min</td>\n",
       "      <td>Comedies</td>\n",
       "      <td>When nerdy high schooler Dani finally attracts...</td>\n",
       "    </tr>\n",
       "  </tbody>\n",
       "</table>\n",
       "</div>"
      ],
      "text/plain": [
       "    show_id     type                                    title  \\\n",
       "0  81145628    Movie  Norm of the North: King Sized Adventure   \n",
       "1  80117401    Movie               Jandino: Whatever it Takes   \n",
       "2  70234439  TV Show                       Transformers Prime   \n",
       "3  80058654  TV Show         Transformers: Robots in Disguise   \n",
       "4  80125979    Movie                             #realityhigh   \n",
       "\n",
       "                   director  \\\n",
       "0  Richard Finn, Tim Maltby   \n",
       "1                       NaN   \n",
       "2                       NaN   \n",
       "3                       NaN   \n",
       "4          Fernando Lebrija   \n",
       "\n",
       "                                                cast  \\\n",
       "0  Alan Marriott, Andrew Toth, Brian Dobson, Cole...   \n",
       "1                                   Jandino Asporaat   \n",
       "2  Peter Cullen, Sumalee Montano, Frank Welker, J...   \n",
       "3  Will Friedle, Darren Criss, Constance Zimmer, ...   \n",
       "4  Nesta Cooper, Kate Walsh, John Michael Higgins...   \n",
       "\n",
       "                                    country         date_added  release_year  \\\n",
       "0  United States, India, South Korea, China  September 9, 2019          2019   \n",
       "1                            United Kingdom  September 9, 2016          2016   \n",
       "2                             United States  September 8, 2018          2013   \n",
       "3                             United States  September 8, 2018          2016   \n",
       "4                             United States  September 8, 2017          2017   \n",
       "\n",
       "     rating  duration                           listed_in  \\\n",
       "0     TV-PG    90 min  Children & Family Movies, Comedies   \n",
       "1     TV-MA    94 min                     Stand-Up Comedy   \n",
       "2  TV-Y7-FV  1 Season                            Kids' TV   \n",
       "3     TV-Y7  1 Season                            Kids' TV   \n",
       "4     TV-14    99 min                            Comedies   \n",
       "\n",
       "                                         description  \n",
       "0  Before planning an awesome wedding for his gra...  \n",
       "1  Jandino Asporaat riffs on the challenges of ra...  \n",
       "2  With the help of three human allies, the Autob...  \n",
       "3  When a prison ship crash unleashes hundreds of...  \n",
       "4  When nerdy high schooler Dani finally attracts...  "
      ]
     },
     "execution_count": 110,
     "metadata": {},
     "output_type": "execute_result"
    }
   ],
   "source": [
    "df.head()"
   ]
  },
  {
   "cell_type": "code",
   "execution_count": 111,
   "metadata": {},
   "outputs": [
    {
     "data": {
      "text/html": [
       "<div>\n",
       "<style scoped>\n",
       "    .dataframe tbody tr th:only-of-type {\n",
       "        vertical-align: middle;\n",
       "    }\n",
       "\n",
       "    .dataframe tbody tr th {\n",
       "        vertical-align: top;\n",
       "    }\n",
       "\n",
       "    .dataframe thead th {\n",
       "        text-align: right;\n",
       "    }\n",
       "</style>\n",
       "<table border=\"1\" class=\"dataframe\">\n",
       "  <thead>\n",
       "    <tr style=\"text-align: right;\">\n",
       "      <th></th>\n",
       "      <th>show_id</th>\n",
       "      <th>release_year</th>\n",
       "    </tr>\n",
       "  </thead>\n",
       "  <tbody>\n",
       "    <tr>\n",
       "      <th>count</th>\n",
       "      <td>6.234000e+03</td>\n",
       "      <td>6234.00000</td>\n",
       "    </tr>\n",
       "    <tr>\n",
       "      <th>mean</th>\n",
       "      <td>7.670368e+07</td>\n",
       "      <td>2013.35932</td>\n",
       "    </tr>\n",
       "    <tr>\n",
       "      <th>std</th>\n",
       "      <td>1.094296e+07</td>\n",
       "      <td>8.81162</td>\n",
       "    </tr>\n",
       "    <tr>\n",
       "      <th>min</th>\n",
       "      <td>2.477470e+05</td>\n",
       "      <td>1925.00000</td>\n",
       "    </tr>\n",
       "    <tr>\n",
       "      <th>25%</th>\n",
       "      <td>8.003580e+07</td>\n",
       "      <td>2013.00000</td>\n",
       "    </tr>\n",
       "    <tr>\n",
       "      <th>50%</th>\n",
       "      <td>8.016337e+07</td>\n",
       "      <td>2016.00000</td>\n",
       "    </tr>\n",
       "    <tr>\n",
       "      <th>75%</th>\n",
       "      <td>8.024489e+07</td>\n",
       "      <td>2018.00000</td>\n",
       "    </tr>\n",
       "    <tr>\n",
       "      <th>max</th>\n",
       "      <td>8.123573e+07</td>\n",
       "      <td>2020.00000</td>\n",
       "    </tr>\n",
       "  </tbody>\n",
       "</table>\n",
       "</div>"
      ],
      "text/plain": [
       "            show_id  release_year\n",
       "count  6.234000e+03    6234.00000\n",
       "mean   7.670368e+07    2013.35932\n",
       "std    1.094296e+07       8.81162\n",
       "min    2.477470e+05    1925.00000\n",
       "25%    8.003580e+07    2013.00000\n",
       "50%    8.016337e+07    2016.00000\n",
       "75%    8.024489e+07    2018.00000\n",
       "max    8.123573e+07    2020.00000"
      ]
     },
     "execution_count": 111,
     "metadata": {},
     "output_type": "execute_result"
    }
   ],
   "source": [
    "df.describe()"
   ]
  },
  {
   "cell_type": "code",
   "execution_count": 112,
   "metadata": {},
   "outputs": [
    {
     "data": {
      "text/plain": [
       "show_id          int64\n",
       "type            object\n",
       "title           object\n",
       "director        object\n",
       "cast            object\n",
       "country         object\n",
       "date_added      object\n",
       "release_year     int64\n",
       "rating          object\n",
       "duration        object\n",
       "listed_in       object\n",
       "description     object\n",
       "dtype: object"
      ]
     },
     "execution_count": 112,
     "metadata": {},
     "output_type": "execute_result"
    }
   ],
   "source": [
    "df.dtypes"
   ]
  },
  {
   "cell_type": "code",
   "execution_count": 113,
   "metadata": {},
   "outputs": [
    {
     "data": {
      "text/plain": [
       "show_id            0\n",
       "type               0\n",
       "title              0\n",
       "director        1969\n",
       "cast             570\n",
       "country          476\n",
       "date_added        11\n",
       "release_year       0\n",
       "rating            10\n",
       "duration           0\n",
       "listed_in          0\n",
       "description        0\n",
       "dtype: int64"
      ]
     },
     "execution_count": 113,
     "metadata": {},
     "output_type": "execute_result"
    }
   ],
   "source": [
    "df.isna().sum()"
   ]
  },
  {
   "cell_type": "code",
   "execution_count": 114,
   "metadata": {},
   "outputs": [
    {
     "data": {
      "text/plain": [
       "array([[<AxesSubplot:title={'center':'show_id'}>,\n",
       "        <AxesSubplot:title={'center':'release_year'}>]], dtype=object)"
      ]
     },
     "execution_count": 114,
     "metadata": {},
     "output_type": "execute_result"
    },
    {
     "data": {
      "image/png": "[encoded data removed]",
      "text/plain": [
       "<Figure size 432x288 with 2 Axes>"
      ]
     },
     "metadata": {
      "needs_background": "light"
     },
     "output_type": "display_data"
    }
   ],
   "source": [
    "df.hist()"
   ]
  },
  {
   "cell_type": "code",
   "execution_count": 115,
   "metadata": {},
   "outputs": [
    {
     "data": {
      "text/plain": [
       "(6234, 12)"
      ]
     },
     "execution_count": 115,
     "metadata": {},
     "output_type": "execute_result"
    }
   ],
   "source": [
    "df.shape"
   ]
  },
  {
   "cell_type": "code",
   "execution_count": 116,
   "metadata": {},
   "outputs": [],
   "source": [
    "threshold=len(df)*0.01"
   ]
  },
  {
   "cell_type": "code",
   "execution_count": 117,
   "metadata": {},
   "outputs": [],
   "source": [
    "df.dropna(thresh=threshold,axis=1,inplace= True)"
   ]
  },
  {
   "cell_type": "code",
   "execution_count": 118,
   "metadata": {},
   "outputs": [
    {
     "data": {
      "text/plain": [
       "(6234, 12)"
      ]
     },
     "execution_count": 118,
     "metadata": {},
     "output_type": "execute_result"
    }
   ],
   "source": [
    "df.shape"
   ]
  },
  {
   "cell_type": "code",
   "execution_count": 119,
   "metadata": {},
   "outputs": [
    {
     "data": {
      "text/plain": [
       "<AxesSubplot:>"
      ]
     },
     "execution_count": 119,
     "metadata": {},
     "output_type": "execute_result"
    },
    {
     "data": {
      "image/png": "[encoded data removed]",
      "text/plain": [
       "<Figure size 432x288 with 1 Axes>"
      ]
     },
     "metadata": {
      "needs_background": "light"
     },
     "output_type": "display_data"
    }
   ],
   "source": [
    "df.boxplot()"
   ]
  },
  {
   "cell_type": "code",
   "execution_count": 120,
   "metadata": {},
   "outputs": [
    {
     "data": {
      "text/html": [
       "<div>\n",
       "<style scoped>\n",
       "    .dataframe tbody tr th:only-of-type {\n",
       "        vertical-align: middle;\n",
       "    }\n",
       "\n",
       "    .dataframe tbody tr th {\n",
       "        vertical-align: top;\n",
       "    }\n",
       "\n",
       "    .dataframe thead th {\n",
       "        text-align: right;\n",
       "    }\n",
       "</style>\n",
       "<table border=\"1\" class=\"dataframe\">\n",
       "  <thead>\n",
       "    <tr style=\"text-align: right;\">\n",
       "      <th></th>\n",
       "      <th>show_id</th>\n",
       "      <th>type</th>\n",
       "      <th>title</th>\n",
       "      <th>director</th>\n",
       "      <th>cast</th>\n",
       "      <th>country</th>\n",
       "      <th>date_added</th>\n",
       "      <th>release_year</th>\n",
       "      <th>rating</th>\n",
       "      <th>duration</th>\n",
       "      <th>listed_in</th>\n",
       "      <th>description</th>\n",
       "    </tr>\n",
       "  </thead>\n",
       "  <tbody>\n",
       "    <tr>\n",
       "      <th>0</th>\n",
       "      <td>81145628</td>\n",
       "      <td>Movie</td>\n",
       "      <td>Norm of the North: King Sized Adventure</td>\n",
       "      <td>Richard Finn, Tim Maltby</td>\n",
       "      <td>Alan Marriott, Andrew Toth, Brian Dobson, Cole...</td>\n",
       "      <td>United States, India, South Korea, China</td>\n",
       "      <td>September 9, 2019</td>\n",
       "      <td>2019</td>\n",
       "      <td>TV-PG</td>\n",
       "      <td>90 min</td>\n",
       "      <td>Children &amp; Family Movies, Comedies</td>\n",
       "      <td>Before planning an awesome wedding for his gra...</td>\n",
       "    </tr>\n",
       "    <tr>\n",
       "      <th>1</th>\n",
       "      <td>80117401</td>\n",
       "      <td>Movie</td>\n",
       "      <td>Jandino: Whatever it Takes</td>\n",
       "      <td>NaN</td>\n",
       "      <td>Jandino Asporaat</td>\n",
       "      <td>United Kingdom</td>\n",
       "      <td>September 9, 2016</td>\n",
       "      <td>2016</td>\n",
       "      <td>TV-MA</td>\n",
       "      <td>94 min</td>\n",
       "      <td>Stand-Up Comedy</td>\n",
       "      <td>Jandino Asporaat riffs on the challenges of ra...</td>\n",
       "    </tr>\n",
       "    <tr>\n",
       "      <th>2</th>\n",
       "      <td>70234439</td>\n",
       "      <td>TV Show</td>\n",
       "      <td>Transformers Prime</td>\n",
       "      <td>NaN</td>\n",
       "      <td>Peter Cullen, Sumalee Montano, Frank Welker, J...</td>\n",
       "      <td>United States</td>\n",
       "      <td>September 8, 2018</td>\n",
       "      <td>2013</td>\n",
       "      <td>TV-Y7-FV</td>\n",
       "      <td>1 Season</td>\n",
       "      <td>Kids' TV</td>\n",
       "      <td>With the help of three human allies, the Autob...</td>\n",
       "    </tr>\n",
       "    <tr>\n",
       "      <th>3</th>\n",
       "      <td>80058654</td>\n",
       "      <td>TV Show</td>\n",
       "      <td>Transformers: Robots in Disguise</td>\n",
       "      <td>NaN</td>\n",
       "      <td>Will Friedle, Darren Criss, Constance Zimmer, ...</td>\n",
       "      <td>United States</td>\n",
       "      <td>September 8, 2018</td>\n",
       "      <td>2016</td>\n",
       "      <td>TV-Y7</td>\n",
       "      <td>1 Season</td>\n",
       "      <td>Kids' TV</td>\n",
       "      <td>When a prison ship crash unleashes hundreds of...</td>\n",
       "    </tr>\n",
       "    <tr>\n",
       "      <th>4</th>\n",
       "      <td>80125979</td>\n",
       "      <td>Movie</td>\n",
       "      <td>#realityhigh</td>\n",
       "      <td>Fernando Lebrija</td>\n",
       "      <td>Nesta Cooper, Kate Walsh, John Michael Higgins...</td>\n",
       "      <td>United States</td>\n",
       "      <td>September 8, 2017</td>\n",
       "      <td>2017</td>\n",
       "      <td>TV-14</td>\n",
       "      <td>99 min</td>\n",
       "      <td>Comedies</td>\n",
       "      <td>When nerdy high schooler Dani finally attracts...</td>\n",
       "    </tr>\n",
       "    <tr>\n",
       "      <th>...</th>\n",
       "      <td>...</td>\n",
       "      <td>...</td>\n",
       "      <td>...</td>\n",
       "      <td>...</td>\n",
       "      <td>...</td>\n",
       "      <td>...</td>\n",
       "      <td>...</td>\n",
       "      <td>...</td>\n",
       "      <td>...</td>\n",
       "      <td>...</td>\n",
       "      <td>...</td>\n",
       "      <td>...</td>\n",
       "    </tr>\n",
       "    <tr>\n",
       "      <th>6229</th>\n",
       "      <td>80000063</td>\n",
       "      <td>TV Show</td>\n",
       "      <td>Red vs. Blue</td>\n",
       "      <td>NaN</td>\n",
       "      <td>Burnie Burns, Jason Saldaña, Gustavo Sorola, G...</td>\n",
       "      <td>United States</td>\n",
       "      <td>NaN</td>\n",
       "      <td>2015</td>\n",
       "      <td>NR</td>\n",
       "      <td>13 Seasons</td>\n",
       "      <td>TV Action &amp; Adventure, TV Comedies, TV Sci-Fi ...</td>\n",
       "      <td>This parody of first-person shooter games, mil...</td>\n",
       "    </tr>\n",
       "    <tr>\n",
       "      <th>6230</th>\n",
       "      <td>70286564</td>\n",
       "      <td>TV Show</td>\n",
       "      <td>Maron</td>\n",
       "      <td>NaN</td>\n",
       "      <td>Marc Maron, Judd Hirsch, Josh Brener, Nora Zeh...</td>\n",
       "      <td>United States</td>\n",
       "      <td>NaN</td>\n",
       "      <td>2016</td>\n",
       "      <td>TV-MA</td>\n",
       "      <td>4 Seasons</td>\n",
       "      <td>TV Comedies</td>\n",
       "      <td>Marc Maron stars as Marc Maron, who interviews...</td>\n",
       "    </tr>\n",
       "    <tr>\n",
       "      <th>6231</th>\n",
       "      <td>80116008</td>\n",
       "      <td>Movie</td>\n",
       "      <td>Little Baby Bum: Nursery Rhyme Friends</td>\n",
       "      <td>NaN</td>\n",
       "      <td>NaN</td>\n",
       "      <td>NaN</td>\n",
       "      <td>NaN</td>\n",
       "      <td>2016</td>\n",
       "      <td>NaN</td>\n",
       "      <td>60 min</td>\n",
       "      <td>Movies</td>\n",
       "      <td>Nursery rhymes and original music for children...</td>\n",
       "    </tr>\n",
       "    <tr>\n",
       "      <th>6232</th>\n",
       "      <td>70281022</td>\n",
       "      <td>TV Show</td>\n",
       "      <td>A Young Doctor's Notebook and Other Stories</td>\n",
       "      <td>NaN</td>\n",
       "      <td>Daniel Radcliffe, Jon Hamm, Adam Godley, Chris...</td>\n",
       "      <td>United Kingdom</td>\n",
       "      <td>NaN</td>\n",
       "      <td>2013</td>\n",
       "      <td>TV-MA</td>\n",
       "      <td>2 Seasons</td>\n",
       "      <td>British TV Shows, TV Comedies, TV Dramas</td>\n",
       "      <td>Set during the Russian Revolution, this comic ...</td>\n",
       "    </tr>\n",
       "    <tr>\n",
       "      <th>6233</th>\n",
       "      <td>70153404</td>\n",
       "      <td>TV Show</td>\n",
       "      <td>Friends</td>\n",
       "      <td>NaN</td>\n",
       "      <td>Jennifer Aniston, Courteney Cox, Lisa Kudrow, ...</td>\n",
       "      <td>United States</td>\n",
       "      <td>NaN</td>\n",
       "      <td>2003</td>\n",
       "      <td>TV-14</td>\n",
       "      <td>10 Seasons</td>\n",
       "      <td>Classic &amp; Cult TV, TV Comedies</td>\n",
       "      <td>This hit sitcom follows the merry misadventure...</td>\n",
       "    </tr>\n",
       "  </tbody>\n",
       "</table>\n",
       "<p>6234 rows × 12 columns</p>\n",
       "</div>"
      ],
      "text/plain": [
       "       show_id     type                                        title  \\\n",
       "0     81145628    Movie      Norm of the North: King Sized Adventure   \n",
       "1     80117401    Movie                   Jandino: Whatever it Takes   \n",
       "2     70234439  TV Show                           Transformers Prime   \n",
       "3     80058654  TV Show             Transformers: Robots in Disguise   \n",
       "4     80125979    Movie                                 #realityhigh   \n",
       "...        ...      ...                                          ...   \n",
       "6229  80000063  TV Show                                 Red vs. Blue   \n",
       "6230  70286564  TV Show                                        Maron   \n",
       "6231  80116008    Movie       Little Baby Bum: Nursery Rhyme Friends   \n",
       "6232  70281022  TV Show  A Young Doctor's Notebook and Other Stories   \n",
       "6233  70153404  TV Show                                      Friends   \n",
       "\n",
       "                      director  \\\n",
       "0     Richard Finn, Tim Maltby   \n",
       "1                          NaN   \n",
       "2                          NaN   \n",
       "3                          NaN   \n",
       "4             Fernando Lebrija   \n",
       "...                        ...   \n",
       "6229                       NaN   \n",
       "6230                       NaN   \n",
       "6231                       NaN   \n",
       "6232                       NaN   \n",
       "6233                       NaN   \n",
       "\n",
       "                                                   cast  \\\n",
       "0     Alan Marriott, Andrew Toth, Brian Dobson, Cole...   \n",
       "1                                      Jandino Asporaat   \n",
       "2     Peter Cullen, Sumalee Montano, Frank Welker, J...   \n",
       "3     Will Friedle, Darren Criss, Constance Zimmer, ...   \n",
       "4     Nesta Cooper, Kate Walsh, John Michael Higgins...   \n",
       "...                                                 ...   \n",
       "6229  Burnie Burns, Jason Saldaña, Gustavo Sorola, G...   \n",
       "6230  Marc Maron, Judd Hirsch, Josh Brener, Nora Zeh...   \n",
       "6231                                                NaN   \n",
       "6232  Daniel Radcliffe, Jon Hamm, Adam Godley, Chris...   \n",
       "6233  Jennifer Aniston, Courteney Cox, Lisa Kudrow, ...   \n",
       "\n",
       "                                       country         date_added  \\\n",
       "0     United States, India, South Korea, China  September 9, 2019   \n",
       "1                               United Kingdom  September 9, 2016   \n",
       "2                                United States  September 8, 2018   \n",
       "3                                United States  September 8, 2018   \n",
       "4                                United States  September 8, 2017   \n",
       "...                                        ...                ...   \n",
       "6229                             United States                NaN   \n",
       "6230                             United States                NaN   \n",
       "6231                                       NaN                NaN   \n",
       "6232                            United Kingdom                NaN   \n",
       "6233                             United States                NaN   \n",
       "\n",
       "      release_year    rating    duration  \\\n",
       "0             2019     TV-PG      90 min   \n",
       "1             2016     TV-MA      94 min   \n",
       "2             2013  TV-Y7-FV    1 Season   \n",
       "3             2016     TV-Y7    1 Season   \n",
       "4             2017     TV-14      99 min   \n",
       "...            ...       ...         ...   \n",
       "6229          2015        NR  13 Seasons   \n",
       "6230          2016     TV-MA   4 Seasons   \n",
       "6231          2016       NaN      60 min   \n",
       "6232          2013     TV-MA   2 Seasons   \n",
       "6233          2003     TV-14  10 Seasons   \n",
       "\n",
       "                                              listed_in  \\\n",
       "0                    Children & Family Movies, Comedies   \n",
       "1                                       Stand-Up Comedy   \n",
       "2                                              Kids' TV   \n",
       "3                                              Kids' TV   \n",
       "4                                              Comedies   \n",
       "...                                                 ...   \n",
       "6229  TV Action & Adventure, TV Comedies, TV Sci-Fi ...   \n",
       "6230                                        TV Comedies   \n",
       "6231                                             Movies   \n",
       "6232           British TV Shows, TV Comedies, TV Dramas   \n",
       "6233                     Classic & Cult TV, TV Comedies   \n",
       "\n",
       "                                            description  \n",
       "0     Before planning an awesome wedding for his gra...  \n",
       "1     Jandino Asporaat riffs on the challenges of ra...  \n",
       "2     With the help of three human allies, the Autob...  \n",
       "3     When a prison ship crash unleashes hundreds of...  \n",
       "4     When nerdy high schooler Dani finally attracts...  \n",
       "...                                                 ...  \n",
       "6229  This parody of first-person shooter games, mil...  \n",
       "6230  Marc Maron stars as Marc Maron, who interviews...  \n",
       "6231  Nursery rhymes and original music for children...  \n",
       "6232  Set during the Russian Revolution, this comic ...  \n",
       "6233  This hit sitcom follows the merry misadventure...  \n",
       "\n",
       "[6234 rows x 12 columns]"
      ]
     },
     "execution_count": 120,
     "metadata": {},
     "output_type": "execute_result"
    }
   ],
   "source": [
    "df.dropna(how='all')"
   ]
  },
  {
   "cell_type": "code",
   "execution_count": 121,
   "metadata": {},
   "outputs": [
    {
     "data": {
      "text/plain": [
       "(6234, 12)"
      ]
     },
     "execution_count": 121,
     "metadata": {},
     "output_type": "execute_result"
    }
   ],
   "source": [
    "df.shape"
   ]
  },
  {
   "cell_type": "code",
   "execution_count": 122,
   "metadata": {},
   "outputs": [
    {
     "data": {
      "text/plain": [
       "0"
      ]
     },
     "execution_count": 122,
     "metadata": {},
     "output_type": "execute_result"
    }
   ],
   "source": [
    "df.duplicated().sum()"
   ]
  },
  {
   "cell_type": "code",
   "execution_count": 123,
   "metadata": {},
   "outputs": [
    {
     "name": "stdout",
     "output_type": "stream",
     "text": [
      "<class 'pandas.core.frame.DataFrame'>\n",
      "RangeIndex: 6234 entries, 0 to 6233\n",
      "Data columns (total 12 columns):\n",
      " #   Column        Non-Null Count  Dtype \n",
      "---  ------        --------------  ----- \n",
      " 0   show_id       6234 non-null   int64 \n",
      " 1   type          6234 non-null   object\n",
      " 2   title         6234 non-null   object\n",
      " 3   director      4265 non-null   object\n",
      " 4   cast          5664 non-null   object\n",
      " 5   country       5758 non-null   object\n",
      " 6   date_added    6223 non-null   object\n",
      " 7   release_year  6234 non-null   int64 \n",
      " 8   rating        6224 non-null   object\n",
      " 9   duration      6234 non-null   object\n",
      " 10  listed_in     6234 non-null   object\n",
      " 11  description   6234 non-null   object\n",
      "dtypes: int64(2), object(10)\n",
      "memory usage: 584.6+ KB\n"
     ]
    }
   ],
   "source": [
    "df.info()"
   ]
  },
  {
   "cell_type": "code",
   "execution_count": 124,
   "metadata": {},
   "outputs": [],
   "source": [
    "df.dropna(subset=[\"country\"],inplace=True)"
   ]
  },
  {
   "cell_type": "code",
   "execution_count": 125,
   "metadata": {},
   "outputs": [
    {
     "data": {
      "text/plain": [
       "show_id            0\n",
       "type               0\n",
       "title              0\n",
       "director        1664\n",
       "cast             487\n",
       "country            0\n",
       "date_added         9\n",
       "release_year       0\n",
       "rating             6\n",
       "duration           0\n",
       "listed_in          0\n",
       "description        0\n",
       "dtype: int64"
      ]
     },
     "execution_count": 125,
     "metadata": {},
     "output_type": "execute_result"
    }
   ],
   "source": [
    "df.isna().sum()"
   ]
  },
  {
   "cell_type": "code",
   "execution_count": 126,
   "metadata": {},
   "outputs": [
    {
     "data": {
      "text/plain": [
       "show_id            0\n",
       "type               0\n",
       "title              0\n",
       "director        1664\n",
       "cast             487\n",
       "country            0\n",
       "date_added         9\n",
       "release_year       0\n",
       "rating             6\n",
       "duration           0\n",
       "listed_in          0\n",
       "description        0\n",
       "dtype: int64"
      ]
     },
     "execution_count": 126,
     "metadata": {},
     "output_type": "execute_result"
    }
   ],
   "source": [
    "df.isna().sum()"
   ]
  },
  {
   "cell_type": "code",
   "execution_count": 127,
   "metadata": {},
   "outputs": [],
   "source": [
    "df.drop(['director','cast'],axis=1,inplace=True)"
   ]
  },
  {
   "cell_type": "code",
   "execution_count": 128,
   "metadata": {},
   "outputs": [
    {
     "data": {
      "text/plain": [
       "show_id         0\n",
       "type            0\n",
       "title           0\n",
       "country         0\n",
       "date_added      9\n",
       "release_year    0\n",
       "rating          6\n",
       "duration        0\n",
       "listed_in       0\n",
       "description     0\n",
       "dtype: int64"
      ]
     },
     "execution_count": 128,
     "metadata": {},
     "output_type": "execute_result"
    }
   ],
   "source": [
    "df.isna().sum()"
   ]
  },
  {
   "cell_type": "code",
   "execution_count": 129,
   "metadata": {},
   "outputs": [],
   "source": [
    "df.dropna(inplace=True)"
   ]
  },
  {
   "cell_type": "code",
   "execution_count": 130,
   "metadata": {},
   "outputs": [
    {
     "data": {
      "text/plain": [
       "show_id         0\n",
       "type            0\n",
       "title           0\n",
       "country         0\n",
       "date_added      0\n",
       "release_year    0\n",
       "rating          0\n",
       "duration        0\n",
       "listed_in       0\n",
       "description     0\n",
       "dtype: int64"
      ]
     },
     "execution_count": 130,
     "metadata": {},
     "output_type": "execute_result"
    }
   ],
   "source": [
    "df.isna().sum()"
   ]
  },
  {
   "cell_type": "code",
   "execution_count": 131,
   "metadata": {},
   "outputs": [
    {
     "data": {
      "text/plain": [
       "5743"
      ]
     },
     "execution_count": 131,
     "metadata": {},
     "output_type": "execute_result"
    }
   ],
   "source": [
    "len(df.show_id.unique())"
   ]
  },
  {
   "cell_type": "code",
   "execution_count": 132,
   "metadata": {},
   "outputs": [],
   "source": [
    "df.drop(df[df['date_added']==\"TV-MA\"].index,inplace=True)\n",
    "#df.drop(df[df['Age'] < 25].index, inplace = True) "
   ]
  },
  {
   "cell_type": "code",
   "execution_count": 133,
   "metadata": {},
   "outputs": [],
   "source": [
    "df['date_added']=pd.to_datetime(df.date_added)\n",
    "df['release_year']=pd.to_numeric(df.release_year)\n"
   ]
  },
  {
   "cell_type": "code",
   "execution_count": 134,
   "metadata": {},
   "outputs": [
    {
     "data": {
      "text/html": [
       "<div>\n",
       "<style scoped>\n",
       "    .dataframe tbody tr th:only-of-type {\n",
       "        vertical-align: middle;\n",
       "    }\n",
       "\n",
       "    .dataframe tbody tr th {\n",
       "        vertical-align: top;\n",
       "    }\n",
       "\n",
       "    .dataframe thead th {\n",
       "        text-align: right;\n",
       "    }\n",
       "</style>\n",
       "<table border=\"1\" class=\"dataframe\">\n",
       "  <thead>\n",
       "    <tr style=\"text-align: right;\">\n",
       "      <th></th>\n",
       "      <th>show_id</th>\n",
       "      <th>type</th>\n",
       "      <th>title</th>\n",
       "      <th>country</th>\n",
       "      <th>date_added</th>\n",
       "      <th>release_year</th>\n",
       "      <th>rating</th>\n",
       "      <th>duration</th>\n",
       "      <th>listed_in</th>\n",
       "      <th>description</th>\n",
       "    </tr>\n",
       "  </thead>\n",
       "  <tbody>\n",
       "    <tr>\n",
       "      <th>0</th>\n",
       "      <td>81145628</td>\n",
       "      <td>Movie</td>\n",
       "      <td>Norm of the North: King Sized Adventure</td>\n",
       "      <td>United States, India, South Korea, China</td>\n",
       "      <td>2019-09-09</td>\n",
       "      <td>2019</td>\n",
       "      <td>TV-PG</td>\n",
       "      <td>90 min</td>\n",
       "      <td>Children &amp; Family Movies, Comedies</td>\n",
       "      <td>Before planning an awesome wedding for his gra...</td>\n",
       "    </tr>\n",
       "    <tr>\n",
       "      <th>1</th>\n",
       "      <td>80117401</td>\n",
       "      <td>Movie</td>\n",
       "      <td>Jandino: Whatever it Takes</td>\n",
       "      <td>United Kingdom</td>\n",
       "      <td>2016-09-09</td>\n",
       "      <td>2016</td>\n",
       "      <td>TV-MA</td>\n",
       "      <td>94 min</td>\n",
       "      <td>Stand-Up Comedy</td>\n",
       "      <td>Jandino Asporaat riffs on the challenges of ra...</td>\n",
       "    </tr>\n",
       "    <tr>\n",
       "      <th>2</th>\n",
       "      <td>70234439</td>\n",
       "      <td>TV Show</td>\n",
       "      <td>Transformers Prime</td>\n",
       "      <td>United States</td>\n",
       "      <td>2018-09-08</td>\n",
       "      <td>2013</td>\n",
       "      <td>TV-Y7-FV</td>\n",
       "      <td>1 Season</td>\n",
       "      <td>Kids' TV</td>\n",
       "      <td>With the help of three human allies, the Autob...</td>\n",
       "    </tr>\n",
       "    <tr>\n",
       "      <th>3</th>\n",
       "      <td>80058654</td>\n",
       "      <td>TV Show</td>\n",
       "      <td>Transformers: Robots in Disguise</td>\n",
       "      <td>United States</td>\n",
       "      <td>2018-09-08</td>\n",
       "      <td>2016</td>\n",
       "      <td>TV-Y7</td>\n",
       "      <td>1 Season</td>\n",
       "      <td>Kids' TV</td>\n",
       "      <td>When a prison ship crash unleashes hundreds of...</td>\n",
       "    </tr>\n",
       "    <tr>\n",
       "      <th>4</th>\n",
       "      <td>80125979</td>\n",
       "      <td>Movie</td>\n",
       "      <td>#realityhigh</td>\n",
       "      <td>United States</td>\n",
       "      <td>2017-09-08</td>\n",
       "      <td>2017</td>\n",
       "      <td>TV-14</td>\n",
       "      <td>99 min</td>\n",
       "      <td>Comedies</td>\n",
       "      <td>When nerdy high schooler Dani finally attracts...</td>\n",
       "    </tr>\n",
       "    <tr>\n",
       "      <th>5</th>\n",
       "      <td>80163890</td>\n",
       "      <td>TV Show</td>\n",
       "      <td>Apaches</td>\n",
       "      <td>Spain</td>\n",
       "      <td>2017-09-08</td>\n",
       "      <td>2016</td>\n",
       "      <td>TV-MA</td>\n",
       "      <td>1 Season</td>\n",
       "      <td>Crime TV Shows, International TV Shows, Spanis...</td>\n",
       "      <td>A young journalist is forced into a life of cr...</td>\n",
       "    </tr>\n",
       "    <tr>\n",
       "      <th>6</th>\n",
       "      <td>70304989</td>\n",
       "      <td>Movie</td>\n",
       "      <td>Automata</td>\n",
       "      <td>Bulgaria, United States, Spain, Canada</td>\n",
       "      <td>2017-09-08</td>\n",
       "      <td>2014</td>\n",
       "      <td>R</td>\n",
       "      <td>110 min</td>\n",
       "      <td>International Movies, Sci-Fi &amp; Fantasy, Thrillers</td>\n",
       "      <td>In a dystopian future, an insurance adjuster f...</td>\n",
       "    </tr>\n",
       "    <tr>\n",
       "      <th>7</th>\n",
       "      <td>80164077</td>\n",
       "      <td>Movie</td>\n",
       "      <td>Fabrizio Copano: Solo pienso en mi</td>\n",
       "      <td>Chile</td>\n",
       "      <td>2017-09-08</td>\n",
       "      <td>2017</td>\n",
       "      <td>TV-MA</td>\n",
       "      <td>60 min</td>\n",
       "      <td>Stand-Up Comedy</td>\n",
       "      <td>Fabrizio Copano takes audience participation t...</td>\n",
       "    </tr>\n",
       "    <tr>\n",
       "      <th>8</th>\n",
       "      <td>80117902</td>\n",
       "      <td>TV Show</td>\n",
       "      <td>Fire Chasers</td>\n",
       "      <td>United States</td>\n",
       "      <td>2017-09-08</td>\n",
       "      <td>2017</td>\n",
       "      <td>TV-MA</td>\n",
       "      <td>1 Season</td>\n",
       "      <td>Docuseries, Science &amp; Nature TV</td>\n",
       "      <td>As California's 2016 fire season rages, brave ...</td>\n",
       "    </tr>\n",
       "    <tr>\n",
       "      <th>9</th>\n",
       "      <td>70304990</td>\n",
       "      <td>Movie</td>\n",
       "      <td>Good People</td>\n",
       "      <td>United States, United Kingdom, Denmark, Sweden</td>\n",
       "      <td>2017-09-08</td>\n",
       "      <td>2014</td>\n",
       "      <td>R</td>\n",
       "      <td>90 min</td>\n",
       "      <td>Action &amp; Adventure, Thrillers</td>\n",
       "      <td>A struggling couple can't believe their luck w...</td>\n",
       "    </tr>\n",
       "    <tr>\n",
       "      <th>11</th>\n",
       "      <td>70299204</td>\n",
       "      <td>Movie</td>\n",
       "      <td>Kidnapping Mr. Heineken</td>\n",
       "      <td>Netherlands, Belgium, United Kingdom, United S...</td>\n",
       "      <td>2017-09-08</td>\n",
       "      <td>2015</td>\n",
       "      <td>R</td>\n",
       "      <td>95 min</td>\n",
       "      <td>Action &amp; Adventure, Dramas, International Movies</td>\n",
       "      <td>When beer magnate Alfred \"Freddy\" Heineken is ...</td>\n",
       "    </tr>\n",
       "    <tr>\n",
       "      <th>19</th>\n",
       "      <td>80057969</td>\n",
       "      <td>Movie</td>\n",
       "      <td>Love</td>\n",
       "      <td>France, Belgium</td>\n",
       "      <td>2017-09-08</td>\n",
       "      <td>2015</td>\n",
       "      <td>NR</td>\n",
       "      <td>135 min</td>\n",
       "      <td>Cult Movies, Dramas, Independent Movies</td>\n",
       "      <td>A man in an unsatisfying marriage recalls the ...</td>\n",
       "    </tr>\n",
       "    <tr>\n",
       "      <th>20</th>\n",
       "      <td>80060297</td>\n",
       "      <td>Movie</td>\n",
       "      <td>Manhattan Romance</td>\n",
       "      <td>United States</td>\n",
       "      <td>2017-09-08</td>\n",
       "      <td>2014</td>\n",
       "      <td>TV-14</td>\n",
       "      <td>98 min</td>\n",
       "      <td>Comedies, Independent Movies, Romantic Movies</td>\n",
       "      <td>A filmmaker working on a documentary about lov...</td>\n",
       "    </tr>\n",
       "    <tr>\n",
       "      <th>21</th>\n",
       "      <td>80046728</td>\n",
       "      <td>Movie</td>\n",
       "      <td>Moonwalkers</td>\n",
       "      <td>France, Belgium</td>\n",
       "      <td>2017-09-08</td>\n",
       "      <td>2015</td>\n",
       "      <td>R</td>\n",
       "      <td>96 min</td>\n",
       "      <td>Action &amp; Adventure, Comedies, International Mo...</td>\n",
       "      <td>A brain-addled war vet, a failing band manager...</td>\n",
       "    </tr>\n",
       "    <tr>\n",
       "      <th>22</th>\n",
       "      <td>80046727</td>\n",
       "      <td>Movie</td>\n",
       "      <td>Rolling Papers</td>\n",
       "      <td>United States, Uruguay</td>\n",
       "      <td>2017-09-08</td>\n",
       "      <td>2015</td>\n",
       "      <td>TV-MA</td>\n",
       "      <td>79 min</td>\n",
       "      <td>Documentaries</td>\n",
       "      <td>As the newspaper industry takes a hit, The Den...</td>\n",
       "    </tr>\n",
       "    <tr>\n",
       "      <th>23</th>\n",
       "      <td>70304988</td>\n",
       "      <td>Movie</td>\n",
       "      <td>Stonehearst Asylum</td>\n",
       "      <td>United States</td>\n",
       "      <td>2017-09-08</td>\n",
       "      <td>2014</td>\n",
       "      <td>PG-13</td>\n",
       "      <td>113 min</td>\n",
       "      <td>Horror Movies, Thrillers</td>\n",
       "      <td>In 1899, a young doctor arrives at an asylum f...</td>\n",
       "    </tr>\n",
       "    <tr>\n",
       "      <th>24</th>\n",
       "      <td>80057700</td>\n",
       "      <td>Movie</td>\n",
       "      <td>The Runner</td>\n",
       "      <td>United States</td>\n",
       "      <td>2017-09-08</td>\n",
       "      <td>2015</td>\n",
       "      <td>R</td>\n",
       "      <td>90 min</td>\n",
       "      <td>Dramas, Independent Movies</td>\n",
       "      <td>A New Orleans politician finds his idealistic ...</td>\n",
       "    </tr>\n",
       "    <tr>\n",
       "      <th>25</th>\n",
       "      <td>80045922</td>\n",
       "      <td>Movie</td>\n",
       "      <td>6 Years</td>\n",
       "      <td>United States</td>\n",
       "      <td>2015-09-08</td>\n",
       "      <td>2015</td>\n",
       "      <td>NR</td>\n",
       "      <td>80 min</td>\n",
       "      <td>Dramas, Independent Movies, Romantic Movies</td>\n",
       "      <td>As a volatile young couple who have been toget...</td>\n",
       "    </tr>\n",
       "    <tr>\n",
       "      <th>27</th>\n",
       "      <td>80203094</td>\n",
       "      <td>Movie</td>\n",
       "      <td>City of Joy</td>\n",
       "      <td>United States,</td>\n",
       "      <td>2018-09-07</td>\n",
       "      <td>2018</td>\n",
       "      <td>TV-MA</td>\n",
       "      <td>77 min</td>\n",
       "      <td>Documentaries</td>\n",
       "      <td>Women who've been sexually brutalized in war-t...</td>\n",
       "    </tr>\n",
       "    <tr>\n",
       "      <th>29</th>\n",
       "      <td>70241607</td>\n",
       "      <td>Movie</td>\n",
       "      <td>Laddaland</td>\n",
       "      <td>Thailand</td>\n",
       "      <td>2018-09-07</td>\n",
       "      <td>2011</td>\n",
       "      <td>TV-MA</td>\n",
       "      <td>112 min</td>\n",
       "      <td>Horror Movies, International Movies</td>\n",
       "      <td>When a family moves into an upscale housing de...</td>\n",
       "    </tr>\n",
       "  </tbody>\n",
       "</table>\n",
       "</div>"
      ],
      "text/plain": [
       "     show_id     type                                    title  \\\n",
       "0   81145628    Movie  Norm of the North: King Sized Adventure   \n",
       "1   80117401    Movie               Jandino: Whatever it Takes   \n",
       "2   70234439  TV Show                       Transformers Prime   \n",
       "3   80058654  TV Show         Transformers: Robots in Disguise   \n",
       "4   80125979    Movie                             #realityhigh   \n",
       "5   80163890  TV Show                                  Apaches   \n",
       "6   70304989    Movie                                 Automata   \n",
       "7   80164077    Movie       Fabrizio Copano: Solo pienso en mi   \n",
       "8   80117902  TV Show                             Fire Chasers   \n",
       "9   70304990    Movie                              Good People   \n",
       "11  70299204    Movie                  Kidnapping Mr. Heineken   \n",
       "19  80057969    Movie                                     Love   \n",
       "20  80060297    Movie                        Manhattan Romance   \n",
       "21  80046728    Movie                              Moonwalkers   \n",
       "22  80046727    Movie                           Rolling Papers   \n",
       "23  70304988    Movie                       Stonehearst Asylum   \n",
       "24  80057700    Movie                               The Runner   \n",
       "25  80045922    Movie                                  6 Years   \n",
       "27  80203094    Movie                              City of Joy   \n",
       "29  70241607    Movie                                Laddaland   \n",
       "\n",
       "                                              country date_added  \\\n",
       "0            United States, India, South Korea, China 2019-09-09   \n",
       "1                                      United Kingdom 2016-09-09   \n",
       "2                                       United States 2018-09-08   \n",
       "3                                       United States 2018-09-08   \n",
       "4                                       United States 2017-09-08   \n",
       "5                                               Spain 2017-09-08   \n",
       "6              Bulgaria, United States, Spain, Canada 2017-09-08   \n",
       "7                                               Chile 2017-09-08   \n",
       "8                                       United States 2017-09-08   \n",
       "9      United States, United Kingdom, Denmark, Sweden 2017-09-08   \n",
       "11  Netherlands, Belgium, United Kingdom, United S... 2017-09-08   \n",
       "19                                    France, Belgium 2017-09-08   \n",
       "20                                      United States 2017-09-08   \n",
       "21                                    France, Belgium 2017-09-08   \n",
       "22                             United States, Uruguay 2017-09-08   \n",
       "23                                      United States 2017-09-08   \n",
       "24                                      United States 2017-09-08   \n",
       "25                                      United States 2015-09-08   \n",
       "27                                     United States, 2018-09-07   \n",
       "29                                           Thailand 2018-09-07   \n",
       "\n",
       "    release_year    rating  duration  \\\n",
       "0           2019     TV-PG    90 min   \n",
       "1           2016     TV-MA    94 min   \n",
       "2           2013  TV-Y7-FV  1 Season   \n",
       "3           2016     TV-Y7  1 Season   \n",
       "4           2017     TV-14    99 min   \n",
       "5           2016     TV-MA  1 Season   \n",
       "6           2014         R   110 min   \n",
       "7           2017     TV-MA    60 min   \n",
       "8           2017     TV-MA  1 Season   \n",
       "9           2014         R    90 min   \n",
       "11          2015         R    95 min   \n",
       "19          2015        NR   135 min   \n",
       "20          2014     TV-14    98 min   \n",
       "21          2015         R    96 min   \n",
       "22          2015     TV-MA    79 min   \n",
       "23          2014     PG-13   113 min   \n",
       "24          2015         R    90 min   \n",
       "25          2015        NR    80 min   \n",
       "27          2018     TV-MA    77 min   \n",
       "29          2011     TV-MA   112 min   \n",
       "\n",
       "                                            listed_in  \\\n",
       "0                  Children & Family Movies, Comedies   \n",
       "1                                     Stand-Up Comedy   \n",
       "2                                            Kids' TV   \n",
       "3                                            Kids' TV   \n",
       "4                                            Comedies   \n",
       "5   Crime TV Shows, International TV Shows, Spanis...   \n",
       "6   International Movies, Sci-Fi & Fantasy, Thrillers   \n",
       "7                                     Stand-Up Comedy   \n",
       "8                     Docuseries, Science & Nature TV   \n",
       "9                       Action & Adventure, Thrillers   \n",
       "11   Action & Adventure, Dramas, International Movies   \n",
       "19            Cult Movies, Dramas, Independent Movies   \n",
       "20      Comedies, Independent Movies, Romantic Movies   \n",
       "21  Action & Adventure, Comedies, International Mo...   \n",
       "22                                      Documentaries   \n",
       "23                           Horror Movies, Thrillers   \n",
       "24                         Dramas, Independent Movies   \n",
       "25        Dramas, Independent Movies, Romantic Movies   \n",
       "27                                      Documentaries   \n",
       "29                Horror Movies, International Movies   \n",
       "\n",
       "                                          description  \n",
       "0   Before planning an awesome wedding for his gra...  \n",
       "1   Jandino Asporaat riffs on the challenges of ra...  \n",
       "2   With the help of three human allies, the Autob...  \n",
       "3   When a prison ship crash unleashes hundreds of...  \n",
       "4   When nerdy high schooler Dani finally attracts...  \n",
       "5   A young journalist is forced into a life of cr...  \n",
       "6   In a dystopian future, an insurance adjuster f...  \n",
       "7   Fabrizio Copano takes audience participation t...  \n",
       "8   As California's 2016 fire season rages, brave ...  \n",
       "9   A struggling couple can't believe their luck w...  \n",
       "11  When beer magnate Alfred \"Freddy\" Heineken is ...  \n",
       "19  A man in an unsatisfying marriage recalls the ...  \n",
       "20  A filmmaker working on a documentary about lov...  \n",
       "21  A brain-addled war vet, a failing band manager...  \n",
       "22  As the newspaper industry takes a hit, The Den...  \n",
       "23  In 1899, a young doctor arrives at an asylum f...  \n",
       "24  A New Orleans politician finds his idealistic ...  \n",
       "25  As a volatile young couple who have been toget...  \n",
       "27  Women who've been sexually brutalized in war-t...  \n",
       "29  When a family moves into an upscale housing de...  "
      ]
     },
     "execution_count": 134,
     "metadata": {},
     "output_type": "execute_result"
    }
   ],
   "source": [
    "df.head(20)"
   ]
  },
  {
   "cell_type": "code",
   "execution_count": 135,
   "metadata": {},
   "outputs": [],
   "source": [
    "df['duration']=df['duration'].apply(lambda x:str(x).replace(\"min\",\"\") if \"min\" in str(x) else str(x))\n",
    "df['duration']=df['duration'].apply(lambda x: str(x).replace(\"Season\",\"\") if \"Season\" in str(x) else str(x))"
   ]
  },
  {
   "cell_type": "code",
   "execution_count": 136,
   "metadata": {},
   "outputs": [
    {
     "data": {
      "text/html": [
       "<div>\n",
       "<style scoped>\n",
       "    .dataframe tbody tr th:only-of-type {\n",
       "        vertical-align: middle;\n",
       "    }\n",
       "\n",
       "    .dataframe tbody tr th {\n",
       "        vertical-align: top;\n",
       "    }\n",
       "\n",
       "    .dataframe thead th {\n",
       "        text-align: right;\n",
       "    }\n",
       "</style>\n",
       "<table border=\"1\" class=\"dataframe\">\n",
       "  <thead>\n",
       "    <tr style=\"text-align: right;\">\n",
       "      <th></th>\n",
       "      <th>show_id</th>\n",
       "      <th>type</th>\n",
       "      <th>title</th>\n",
       "      <th>country</th>\n",
       "      <th>date_added</th>\n",
       "      <th>release_year</th>\n",
       "      <th>rating</th>\n",
       "      <th>duration</th>\n",
       "      <th>listed_in</th>\n",
       "      <th>description</th>\n",
       "    </tr>\n",
       "  </thead>\n",
       "  <tbody>\n",
       "    <tr>\n",
       "      <th>5584</th>\n",
       "      <td>70270745</td>\n",
       "      <td>TV Show</td>\n",
       "      <td>Ripper Street</td>\n",
       "      <td>United Kingdom, Ireland</td>\n",
       "      <td>2017-09-08</td>\n",
       "      <td>2017</td>\n",
       "      <td>TV-MA</td>\n",
       "      <td>5 s</td>\n",
       "      <td>British TV Shows, Crime TV Shows, TV Dramas</td>\n",
       "      <td>It's been six months since the last Jack the R...</td>\n",
       "    </tr>\n",
       "    <tr>\n",
       "      <th>5585</th>\n",
       "      <td>70177067</td>\n",
       "      <td>TV Show</td>\n",
       "      <td>Haven</td>\n",
       "      <td>Canada, United States</td>\n",
       "      <td>2015-09-08</td>\n",
       "      <td>2015</td>\n",
       "      <td>TV-14</td>\n",
       "      <td>5 s</td>\n",
       "      <td>Classic &amp; Cult TV, TV Horror, TV Mysteries</td>\n",
       "      <td>Residents of Haven, Maine, are plagued by supe...</td>\n",
       "    </tr>\n",
       "    <tr>\n",
       "      <th>5594</th>\n",
       "      <td>80020542</td>\n",
       "      <td>TV Show</td>\n",
       "      <td>Gotham</td>\n",
       "      <td>United States</td>\n",
       "      <td>2019-09-30</td>\n",
       "      <td>2019</td>\n",
       "      <td>TV-14</td>\n",
       "      <td>5 s</td>\n",
       "      <td>Crime TV Shows, TV Action &amp; Adventure, TV Dramas</td>\n",
       "      <td>Long before he was commissioner, rookie cop Ja...</td>\n",
       "    </tr>\n",
       "    <tr>\n",
       "      <th>5608</th>\n",
       "      <td>80127001</td>\n",
       "      <td>TV Show</td>\n",
       "      <td>Resurrection: Ertugrul</td>\n",
       "      <td>Turkey</td>\n",
       "      <td>2019-09-24</td>\n",
       "      <td>2018</td>\n",
       "      <td>TV-14</td>\n",
       "      <td>5 s</td>\n",
       "      <td>International TV Shows, TV Action &amp; Adventure,...</td>\n",
       "      <td>When a good deed unwittingly endangers his cla...</td>\n",
       "    </tr>\n",
       "    <tr>\n",
       "      <th>5610</th>\n",
       "      <td>70197042</td>\n",
       "      <td>TV Show</td>\n",
       "      <td>Person of Interest</td>\n",
       "      <td>United States</td>\n",
       "      <td>2016-09-22</td>\n",
       "      <td>2016</td>\n",
       "      <td>TV-14</td>\n",
       "      <td>5 s</td>\n",
       "      <td>Crime TV Shows, TV Action &amp; Adventure, TV Dramas</td>\n",
       "      <td>Ex-CIA agent John Reese and enigmatic billiona...</td>\n",
       "    </tr>\n",
       "    <tr>\n",
       "      <th>5646</th>\n",
       "      <td>70281526</td>\n",
       "      <td>TV Show</td>\n",
       "      <td>The Fosters</td>\n",
       "      <td>United States</td>\n",
       "      <td>2017-10-05</td>\n",
       "      <td>2017</td>\n",
       "      <td>TV-14</td>\n",
       "      <td>5 s</td>\n",
       "      <td>TV Dramas</td>\n",
       "      <td>This offbeat drama charts the ups and downs of...</td>\n",
       "    </tr>\n",
       "    <tr>\n",
       "      <th>5648</th>\n",
       "      <td>80002479</td>\n",
       "      <td>TV Show</td>\n",
       "      <td>Peaky Blinders</td>\n",
       "      <td>United Kingdom</td>\n",
       "      <td>2019-10-04</td>\n",
       "      <td>2019</td>\n",
       "      <td>TV-MA</td>\n",
       "      <td>5 s</td>\n",
       "      <td>British TV Shows, Crime TV Shows, Internationa...</td>\n",
       "      <td>A notorious gang in 1919 Birmingham, England, ...</td>\n",
       "    </tr>\n",
       "    <tr>\n",
       "      <th>5657</th>\n",
       "      <td>81034099</td>\n",
       "      <td>TV Show</td>\n",
       "      <td>Jeopardy!</td>\n",
       "      <td>United States</td>\n",
       "      <td>2019-10-28</td>\n",
       "      <td>2019</td>\n",
       "      <td>TV-G</td>\n",
       "      <td>5 s</td>\n",
       "      <td>Reality TV</td>\n",
       "      <td>Alex Trebek hosts one of TV's longest-running ...</td>\n",
       "    </tr>\n",
       "    <tr>\n",
       "      <th>5681</th>\n",
       "      <td>70301553</td>\n",
       "      <td>TV Show</td>\n",
       "      <td>Rake</td>\n",
       "      <td>Australia</td>\n",
       "      <td>2018-10-16</td>\n",
       "      <td>2018</td>\n",
       "      <td>NR</td>\n",
       "      <td>5 s</td>\n",
       "      <td>Crime TV Shows, International TV Shows, TV Com...</td>\n",
       "      <td>While Cleaver Greene is a brilliant and driven...</td>\n",
       "    </tr>\n",
       "    <tr>\n",
       "      <th>5694</th>\n",
       "      <td>80036165</td>\n",
       "      <td>TV Show</td>\n",
       "      <td>Schitt's Creek</td>\n",
       "      <td>Canada, United States</td>\n",
       "      <td>2019-10-10</td>\n",
       "      <td>2019</td>\n",
       "      <td>TV-14</td>\n",
       "      <td>5 s</td>\n",
       "      <td>TV Comedies</td>\n",
       "      <td>Suddenly broke, the formerly filthy-rich Rose ...</td>\n",
       "    </tr>\n",
       "    <tr>\n",
       "      <th>5743</th>\n",
       "      <td>70264616</td>\n",
       "      <td>TV Show</td>\n",
       "      <td>Goosebumps</td>\n",
       "      <td>Canada</td>\n",
       "      <td>2014-11-19</td>\n",
       "      <td>1998</td>\n",
       "      <td>TV-Y7</td>\n",
       "      <td>5 s</td>\n",
       "      <td>Kids' TV, TV Thrillers</td>\n",
       "      <td>R.L. Stine's tales take on a life of their own...</td>\n",
       "    </tr>\n",
       "    <tr>\n",
       "      <th>5772</th>\n",
       "      <td>70279656</td>\n",
       "      <td>TV Show</td>\n",
       "      <td>The Mind of a Chef</td>\n",
       "      <td>United States</td>\n",
       "      <td>2017-11-01</td>\n",
       "      <td>2016</td>\n",
       "      <td>TV-PG</td>\n",
       "      <td>5 s</td>\n",
       "      <td>Docuseries</td>\n",
       "      <td>Producer and narrator Anthony Bourdain explore...</td>\n",
       "    </tr>\n",
       "    <tr>\n",
       "      <th>5774</th>\n",
       "      <td>70157402</td>\n",
       "      <td>TV Show</td>\n",
       "      <td>Highway to Heaven</td>\n",
       "      <td>United States</td>\n",
       "      <td>2016-11-01</td>\n",
       "      <td>1988</td>\n",
       "      <td>TV-PG</td>\n",
       "      <td>5 s</td>\n",
       "      <td>TV Dramas</td>\n",
       "      <td>Under God's direction, angel Jonathan and ex-c...</td>\n",
       "    </tr>\n",
       "    <tr>\n",
       "      <th>5788</th>\n",
       "      <td>70252898</td>\n",
       "      <td>TV Show</td>\n",
       "      <td>Total Drama</td>\n",
       "      <td>Canada, United States, France</td>\n",
       "      <td>2018-05-03</td>\n",
       "      <td>2015</td>\n",
       "      <td>TV-PG</td>\n",
       "      <td>5 s</td>\n",
       "      <td>Kids' TV, TV Comedies</td>\n",
       "      <td>Heartwarming moments are interspersed with bac...</td>\n",
       "    </tr>\n",
       "    <tr>\n",
       "      <th>5789</th>\n",
       "      <td>70140358</td>\n",
       "      <td>TV Show</td>\n",
       "      <td>Arrested Development</td>\n",
       "      <td>United States</td>\n",
       "      <td>2018-05-29</td>\n",
       "      <td>2019</td>\n",
       "      <td>TV-14</td>\n",
       "      <td>5 s</td>\n",
       "      <td>TV Comedies</td>\n",
       "      <td>It's the Emmy-winning story of a wealthy famil...</td>\n",
       "    </tr>\n",
       "    <tr>\n",
       "      <th>5791</th>\n",
       "      <td>70210883</td>\n",
       "      <td>TV Show</td>\n",
       "      <td>Hell on Wheels</td>\n",
       "      <td>Canada, United Kingdom</td>\n",
       "      <td>2016-05-28</td>\n",
       "      <td>2016</td>\n",
       "      <td>TV-14</td>\n",
       "      <td>5 s</td>\n",
       "      <td>Crime TV Shows, TV Action &amp; Adventure</td>\n",
       "      <td>Former Confederate soldier Cullen Bohannon set...</td>\n",
       "    </tr>\n",
       "    <tr>\n",
       "      <th>5800</th>\n",
       "      <td>80027042</td>\n",
       "      <td>TV Show</td>\n",
       "      <td>The Flash</td>\n",
       "      <td>United States</td>\n",
       "      <td>2019-05-22</td>\n",
       "      <td>2019</td>\n",
       "      <td>TV-14</td>\n",
       "      <td>5 s</td>\n",
       "      <td>Crime TV Shows, TV Action &amp; Adventure, TV Sci-...</td>\n",
       "      <td>A forensics expert who wakes from a coma with ...</td>\n",
       "    </tr>\n",
       "    <tr>\n",
       "      <th>5836</th>\n",
       "      <td>70177034</td>\n",
       "      <td>TV Show</td>\n",
       "      <td>Yu-Gi-Oh!</td>\n",
       "      <td>Japan</td>\n",
       "      <td>2018-03-31</td>\n",
       "      <td>2005</td>\n",
       "      <td>TV-Y7</td>\n",
       "      <td>5 s</td>\n",
       "      <td>Anime Series, Kids' TV</td>\n",
       "      <td>The lives of young Yugi Moto and his friends J...</td>\n",
       "    </tr>\n",
       "    <tr>\n",
       "      <th>5842</th>\n",
       "      <td>80024057</td>\n",
       "      <td>TV Show</td>\n",
       "      <td>How to Get Away with Murder</td>\n",
       "      <td>United States</td>\n",
       "      <td>2019-03-30</td>\n",
       "      <td>2018</td>\n",
       "      <td>TV-14</td>\n",
       "      <td>5 s</td>\n",
       "      <td>Crime TV Shows, TV Dramas, TV Mysteries</td>\n",
       "      <td>Brilliant criminal defense attorney and law pr...</td>\n",
       "    </tr>\n",
       "    <tr>\n",
       "      <th>5875</th>\n",
       "      <td>70264888</td>\n",
       "      <td>TV Show</td>\n",
       "      <td>Black Mirror</td>\n",
       "      <td>United Kingdom</td>\n",
       "      <td>2019-06-05</td>\n",
       "      <td>2019</td>\n",
       "      <td>TV-MA</td>\n",
       "      <td>5 s</td>\n",
       "      <td>British TV Shows, International TV Shows, TV D...</td>\n",
       "      <td>This sci-fi anthology series explores a twiste...</td>\n",
       "    </tr>\n",
       "    <tr>\n",
       "      <th>5876</th>\n",
       "      <td>80024232</td>\n",
       "      <td>TV Show</td>\n",
       "      <td>Madam Secretary</td>\n",
       "      <td>United States</td>\n",
       "      <td>2019-06-30</td>\n",
       "      <td>2019</td>\n",
       "      <td>TV-14</td>\n",
       "      <td>5 s</td>\n",
       "      <td>TV Dramas</td>\n",
       "      <td>When a highly capable woman becomes secretary ...</td>\n",
       "    </tr>\n",
       "    <tr>\n",
       "      <th>5900</th>\n",
       "      <td>80031377</td>\n",
       "      <td>TV Show</td>\n",
       "      <td>Young &amp; Hungry</td>\n",
       "      <td>United States</td>\n",
       "      <td>2017-06-21</td>\n",
       "      <td>2017</td>\n",
       "      <td>TV-14</td>\n",
       "      <td>5 s</td>\n",
       "      <td>TV Comedies</td>\n",
       "      <td>A female food blogger is hired as a personal c...</td>\n",
       "    </tr>\n",
       "    <tr>\n",
       "      <th>5913</th>\n",
       "      <td>80029145</td>\n",
       "      <td>TV Show</td>\n",
       "      <td>Girlfriends' Guide to Divorce</td>\n",
       "      <td>United States</td>\n",
       "      <td>2019-06-14</td>\n",
       "      <td>2019</td>\n",
       "      <td>TV-14</td>\n",
       "      <td>5 s</td>\n",
       "      <td>TV Comedies, TV Dramas</td>\n",
       "      <td>After the world learns the truth about her fai...</td>\n",
       "    </tr>\n",
       "    <tr>\n",
       "      <th>5987</th>\n",
       "      <td>70175670</td>\n",
       "      <td>TV Show</td>\n",
       "      <td>Episodes</td>\n",
       "      <td>United States, United Kingdom</td>\n",
       "      <td>2018-01-06</td>\n",
       "      <td>2017</td>\n",
       "      <td>TV-MA</td>\n",
       "      <td>5 s</td>\n",
       "      <td>Classic &amp; Cult TV, TV Comedies</td>\n",
       "      <td>Hoping to create an American version of their ...</td>\n",
       "    </tr>\n",
       "    <tr>\n",
       "      <th>5992</th>\n",
       "      <td>80008434</td>\n",
       "      <td>TV Show</td>\n",
       "      <td>Z Nation</td>\n",
       "      <td>United States</td>\n",
       "      <td>2019-01-27</td>\n",
       "      <td>2018</td>\n",
       "      <td>TV-14</td>\n",
       "      <td>5 s</td>\n",
       "      <td>TV Action &amp; Adventure, TV Comedies, TV Horror</td>\n",
       "      <td>A team embarks on a perilous cross-country mis...</td>\n",
       "    </tr>\n",
       "    <tr>\n",
       "      <th>6005</th>\n",
       "      <td>80017537</td>\n",
       "      <td>TV Show</td>\n",
       "      <td>Grace and Frankie</td>\n",
       "      <td>United States</td>\n",
       "      <td>2020-01-15</td>\n",
       "      <td>2019</td>\n",
       "      <td>TV-MA</td>\n",
       "      <td>5 s</td>\n",
       "      <td>TV Comedies, TV Dramas</td>\n",
       "      <td>They’re not friends, but when their husbands l...</td>\n",
       "    </tr>\n",
       "    <tr>\n",
       "      <th>6024</th>\n",
       "      <td>70204981</td>\n",
       "      <td>TV Show</td>\n",
       "      <td>Fullmetal Alchemist: Brotherhood</td>\n",
       "      <td>Japan</td>\n",
       "      <td>2018-01-01</td>\n",
       "      <td>2010</td>\n",
       "      <td>TV-14</td>\n",
       "      <td>5 s</td>\n",
       "      <td>Anime Series, International TV Shows</td>\n",
       "      <td>After both suffer physical damage – brothers E...</td>\n",
       "    </tr>\n",
       "    <tr>\n",
       "      <th>6049</th>\n",
       "      <td>70272479</td>\n",
       "      <td>TV Show</td>\n",
       "      <td>Bates Motel</td>\n",
       "      <td>United States</td>\n",
       "      <td>2018-02-20</td>\n",
       "      <td>2017</td>\n",
       "      <td>TV-14</td>\n",
       "      <td>5 s</td>\n",
       "      <td>Crime TV Shows, TV Dramas, TV Horror</td>\n",
       "      <td>When his father dies, Norman Bates and his mot...</td>\n",
       "    </tr>\n",
       "    <tr>\n",
       "      <th>6081</th>\n",
       "      <td>80036407</td>\n",
       "      <td>TV Show</td>\n",
       "      <td>When Calls the Heart</td>\n",
       "      <td>United States</td>\n",
       "      <td>2018-12-29</td>\n",
       "      <td>2017</td>\n",
       "      <td>TV-G</td>\n",
       "      <td>5 s</td>\n",
       "      <td>TV Dramas</td>\n",
       "      <td>Leaving behind her upper-crust city roots, a w...</td>\n",
       "    </tr>\n",
       "    <tr>\n",
       "      <th>6082</th>\n",
       "      <td>70269429</td>\n",
       "      <td>TV Show</td>\n",
       "      <td>Comedy Bang! Bang!</td>\n",
       "      <td>United States</td>\n",
       "      <td>2016-12-28</td>\n",
       "      <td>2016</td>\n",
       "      <td>TV-14</td>\n",
       "      <td>5 s</td>\n",
       "      <td>Stand-Up Comedy &amp; Talk Shows, TV Comedies</td>\n",
       "      <td>Scott Aukerman brings his popular podcast Come...</td>\n",
       "    </tr>\n",
       "    <tr>\n",
       "      <th>6089</th>\n",
       "      <td>80125291</td>\n",
       "      <td>TV Show</td>\n",
       "      <td>People Just Do Nothing</td>\n",
       "      <td>United Kingdom</td>\n",
       "      <td>2018-12-22</td>\n",
       "      <td>2018</td>\n",
       "      <td>TV-MA</td>\n",
       "      <td>5 s</td>\n",
       "      <td>British TV Shows, TV Comedies</td>\n",
       "      <td>Spinning old-school beats is just another day ...</td>\n",
       "    </tr>\n",
       "    <tr>\n",
       "      <th>6094</th>\n",
       "      <td>80023876</td>\n",
       "      <td>TV Show</td>\n",
       "      <td>Pee-wee's Playhouse</td>\n",
       "      <td>United States</td>\n",
       "      <td>2014-12-18</td>\n",
       "      <td>1990</td>\n",
       "      <td>TV-PG</td>\n",
       "      <td>5 s</td>\n",
       "      <td>Classic &amp; Cult TV, Kids' TV, TV Comedies</td>\n",
       "      <td>Pee-wee Herman brings his stage show to the ma...</td>\n",
       "    </tr>\n",
       "    <tr>\n",
       "      <th>6106</th>\n",
       "      <td>70142436</td>\n",
       "      <td>TV Show</td>\n",
       "      <td>Merlin</td>\n",
       "      <td>United Kingdom</td>\n",
       "      <td>2016-12-15</td>\n",
       "      <td>2012</td>\n",
       "      <td>TV-PG</td>\n",
       "      <td>5 s</td>\n",
       "      <td>British TV Shows, International TV Shows, TV A...</td>\n",
       "      <td>This family-oriented retelling of the King Art...</td>\n",
       "    </tr>\n",
       "    <tr>\n",
       "      <th>6124</th>\n",
       "      <td>80018987</td>\n",
       "      <td>TV Show</td>\n",
       "      <td>All Hail King Julien</td>\n",
       "      <td>United States</td>\n",
       "      <td>2017-12-01</td>\n",
       "      <td>2017</td>\n",
       "      <td>TV-Y7-FV</td>\n",
       "      <td>5 s</td>\n",
       "      <td>Kids' TV, TV Comedies</td>\n",
       "      <td>In this Emmy winner for Outstanding Children's...</td>\n",
       "    </tr>\n",
       "    <tr>\n",
       "      <th>6129</th>\n",
       "      <td>80027159</td>\n",
       "      <td>TV Show</td>\n",
       "      <td>IZombie</td>\n",
       "      <td>United States</td>\n",
       "      <td>2019-08-09</td>\n",
       "      <td>2019</td>\n",
       "      <td>TV-14</td>\n",
       "      <td>5 s</td>\n",
       "      <td>TV Comedies, TV Dramas, TV Horror</td>\n",
       "      <td>A medical student-turned-zombie tries to retai...</td>\n",
       "    </tr>\n",
       "    <tr>\n",
       "      <th>6130</th>\n",
       "      <td>70283261</td>\n",
       "      <td>TV Show</td>\n",
       "      <td>The Originals</td>\n",
       "      <td>United States</td>\n",
       "      <td>2018-08-09</td>\n",
       "      <td>2018</td>\n",
       "      <td>TV-14</td>\n",
       "      <td>5 s</td>\n",
       "      <td>TV Dramas, TV Horror, TV Mysteries</td>\n",
       "      <td>The Mikaelsons move to New Orleans and form an...</td>\n",
       "    </tr>\n",
       "    <tr>\n",
       "      <th>6131</th>\n",
       "      <td>80027158</td>\n",
       "      <td>TV Show</td>\n",
       "      <td>Jane The Virgin</td>\n",
       "      <td>United States</td>\n",
       "      <td>2019-08-08</td>\n",
       "      <td>2019</td>\n",
       "      <td>TV-14</td>\n",
       "      <td>5 s</td>\n",
       "      <td>Romantic TV Shows, TV Comedies, TV Dramas</td>\n",
       "      <td>After vowing to remain chaste until marriage, ...</td>\n",
       "    </tr>\n",
       "    <tr>\n",
       "      <th>6133</th>\n",
       "      <td>70300626</td>\n",
       "      <td>TV Show</td>\n",
       "      <td>Ever After High</td>\n",
       "      <td>Canada</td>\n",
       "      <td>2016-08-05</td>\n",
       "      <td>2016</td>\n",
       "      <td>TV-Y7</td>\n",
       "      <td>5 s</td>\n",
       "      <td>Kids' TV</td>\n",
       "      <td>The kids of fairy-tale characters attend a sch...</td>\n",
       "    </tr>\n",
       "    <tr>\n",
       "      <th>6160</th>\n",
       "      <td>70143836</td>\n",
       "      <td>TV Show</td>\n",
       "      <td>Breaking Bad</td>\n",
       "      <td>United States</td>\n",
       "      <td>2013-08-02</td>\n",
       "      <td>2013</td>\n",
       "      <td>TV-MA</td>\n",
       "      <td>5 s</td>\n",
       "      <td>Crime TV Shows, TV Dramas, TV Thrillers</td>\n",
       "      <td>A high school chemistry teacher dying of cance...</td>\n",
       "    </tr>\n",
       "    <tr>\n",
       "      <th>6162</th>\n",
       "      <td>80049903</td>\n",
       "      <td>TV Show</td>\n",
       "      <td>Dinotrux</td>\n",
       "      <td>United States</td>\n",
       "      <td>2017-08-18</td>\n",
       "      <td>2017</td>\n",
       "      <td>TV-Y7-FV</td>\n",
       "      <td>5 s</td>\n",
       "      <td>Kids' TV</td>\n",
       "      <td>Half dinosaur, half construction truck, full-o...</td>\n",
       "    </tr>\n",
       "    <tr>\n",
       "      <th>6179</th>\n",
       "      <td>70140450</td>\n",
       "      <td>TV Show</td>\n",
       "      <td>The IT Crowd</td>\n",
       "      <td>United Kingdom</td>\n",
       "      <td>2017-08-01</td>\n",
       "      <td>2013</td>\n",
       "      <td>TV-MA</td>\n",
       "      <td>5 s</td>\n",
       "      <td>British TV Shows, Classic &amp; Cult TV, Internati...</td>\n",
       "      <td>Aided by a tech-illiterate manager, a pair of ...</td>\n",
       "    </tr>\n",
       "    <tr>\n",
       "      <th>6194</th>\n",
       "      <td>80046347</td>\n",
       "      <td>TV Show</td>\n",
       "      <td>Señora Acero</td>\n",
       "      <td>Mexico, United States</td>\n",
       "      <td>2019-04-28</td>\n",
       "      <td>2018</td>\n",
       "      <td>TV-14</td>\n",
       "      <td>5 s</td>\n",
       "      <td>Crime TV Shows, International TV Shows, Spanis...</td>\n",
       "      <td>When her drug-trafficking husband dies, an una...</td>\n",
       "    </tr>\n",
       "    <tr>\n",
       "      <th>6204</th>\n",
       "      <td>80091341</td>\n",
       "      <td>TV Show</td>\n",
       "      <td>Cuckoo</td>\n",
       "      <td>United Kingdom</td>\n",
       "      <td>2019-04-19</td>\n",
       "      <td>2019</td>\n",
       "      <td>TV-14</td>\n",
       "      <td>5 s</td>\n",
       "      <td>British TV Shows, International TV Shows, TV C...</td>\n",
       "      <td>Rachel shocks her proper British parents when ...</td>\n",
       "    </tr>\n",
       "    <tr>\n",
       "      <th>6208</th>\n",
       "      <td>70227189</td>\n",
       "      <td>TV Show</td>\n",
       "      <td>Lost Girl</td>\n",
       "      <td>Canada</td>\n",
       "      <td>2016-04-17</td>\n",
       "      <td>2015</td>\n",
       "      <td>TV-14</td>\n",
       "      <td>5 s</td>\n",
       "      <td>TV Dramas, TV Horror, TV Mysteries</td>\n",
       "      <td>Discovering she's a succubus who sustains hers...</td>\n",
       "    </tr>\n",
       "  </tbody>\n",
       "</table>\n",
       "</div>"
      ],
      "text/plain": [
       "       show_id     type                             title  \\\n",
       "5584  70270745  TV Show                     Ripper Street   \n",
       "5585  70177067  TV Show                             Haven   \n",
       "5594  80020542  TV Show                            Gotham   \n",
       "5608  80127001  TV Show            Resurrection: Ertugrul   \n",
       "5610  70197042  TV Show                Person of Interest   \n",
       "5646  70281526  TV Show                       The Fosters   \n",
       "5648  80002479  TV Show                    Peaky Blinders   \n",
       "5657  81034099  TV Show                         Jeopardy!   \n",
       "5681  70301553  TV Show                              Rake   \n",
       "5694  80036165  TV Show                    Schitt's Creek   \n",
       "5743  70264616  TV Show                        Goosebumps   \n",
       "5772  70279656  TV Show                The Mind of a Chef   \n",
       "5774  70157402  TV Show                 Highway to Heaven   \n",
       "5788  70252898  TV Show                       Total Drama   \n",
       "5789  70140358  TV Show              Arrested Development   \n",
       "5791  70210883  TV Show                    Hell on Wheels   \n",
       "5800  80027042  TV Show                         The Flash   \n",
       "5836  70177034  TV Show                         Yu-Gi-Oh!   \n",
       "5842  80024057  TV Show       How to Get Away with Murder   \n",
       "5875  70264888  TV Show                      Black Mirror   \n",
       "5876  80024232  TV Show                   Madam Secretary   \n",
       "5900  80031377  TV Show                    Young & Hungry   \n",
       "5913  80029145  TV Show     Girlfriends' Guide to Divorce   \n",
       "5987  70175670  TV Show                          Episodes   \n",
       "5992  80008434  TV Show                          Z Nation   \n",
       "6005  80017537  TV Show                 Grace and Frankie   \n",
       "6024  70204981  TV Show  Fullmetal Alchemist: Brotherhood   \n",
       "6049  70272479  TV Show                       Bates Motel   \n",
       "6081  80036407  TV Show              When Calls the Heart   \n",
       "6082  70269429  TV Show                Comedy Bang! Bang!   \n",
       "6089  80125291  TV Show            People Just Do Nothing   \n",
       "6094  80023876  TV Show               Pee-wee's Playhouse   \n",
       "6106  70142436  TV Show                            Merlin   \n",
       "6124  80018987  TV Show              All Hail King Julien   \n",
       "6129  80027159  TV Show                           IZombie   \n",
       "6130  70283261  TV Show                     The Originals   \n",
       "6131  80027158  TV Show                   Jane The Virgin   \n",
       "6133  70300626  TV Show                   Ever After High   \n",
       "6160  70143836  TV Show                      Breaking Bad   \n",
       "6162  80049903  TV Show                          Dinotrux   \n",
       "6179  70140450  TV Show                      The IT Crowd   \n",
       "6194  80046347  TV Show                      Señora Acero   \n",
       "6204  80091341  TV Show                            Cuckoo   \n",
       "6208  70227189  TV Show                         Lost Girl   \n",
       "\n",
       "                            country date_added  release_year    rating  \\\n",
       "5584        United Kingdom, Ireland 2017-09-08          2017     TV-MA   \n",
       "5585          Canada, United States 2015-09-08          2015     TV-14   \n",
       "5594                  United States 2019-09-30          2019     TV-14   \n",
       "5608                         Turkey 2019-09-24          2018     TV-14   \n",
       "5610                  United States 2016-09-22          2016     TV-14   \n",
       "5646                  United States 2017-10-05          2017     TV-14   \n",
       "5648                 United Kingdom 2019-10-04          2019     TV-MA   \n",
       "5657                  United States 2019-10-28          2019      TV-G   \n",
       "5681                      Australia 2018-10-16          2018        NR   \n",
       "5694          Canada, United States 2019-10-10          2019     TV-14   \n",
       "5743                         Canada 2014-11-19          1998     TV-Y7   \n",
       "5772                  United States 2017-11-01          2016     TV-PG   \n",
       "5774                  United States 2016-11-01          1988     TV-PG   \n",
       "5788  Canada, United States, France 2018-05-03          2015     TV-PG   \n",
       "5789                  United States 2018-05-29          2019     TV-14   \n",
       "5791         Canada, United Kingdom 2016-05-28          2016     TV-14   \n",
       "5800                  United States 2019-05-22          2019     TV-14   \n",
       "5836                          Japan 2018-03-31          2005     TV-Y7   \n",
       "5842                  United States 2019-03-30          2018     TV-14   \n",
       "5875                 United Kingdom 2019-06-05          2019     TV-MA   \n",
       "5876                  United States 2019-06-30          2019     TV-14   \n",
       "5900                  United States 2017-06-21          2017     TV-14   \n",
       "5913                  United States 2019-06-14          2019     TV-14   \n",
       "5987  United States, United Kingdom 2018-01-06          2017     TV-MA   \n",
       "5992                  United States 2019-01-27          2018     TV-14   \n",
       "6005                  United States 2020-01-15          2019     TV-MA   \n",
       "6024                          Japan 2018-01-01          2010     TV-14   \n",
       "6049                  United States 2018-02-20          2017     TV-14   \n",
       "6081                  United States 2018-12-29          2017      TV-G   \n",
       "6082                  United States 2016-12-28          2016     TV-14   \n",
       "6089                 United Kingdom 2018-12-22          2018     TV-MA   \n",
       "6094                  United States 2014-12-18          1990     TV-PG   \n",
       "6106                 United Kingdom 2016-12-15          2012     TV-PG   \n",
       "6124                  United States 2017-12-01          2017  TV-Y7-FV   \n",
       "6129                  United States 2019-08-09          2019     TV-14   \n",
       "6130                  United States 2018-08-09          2018     TV-14   \n",
       "6131                  United States 2019-08-08          2019     TV-14   \n",
       "6133                         Canada 2016-08-05          2016     TV-Y7   \n",
       "6160                  United States 2013-08-02          2013     TV-MA   \n",
       "6162                  United States 2017-08-18          2017  TV-Y7-FV   \n",
       "6179                 United Kingdom 2017-08-01          2013     TV-MA   \n",
       "6194          Mexico, United States 2019-04-28          2018     TV-14   \n",
       "6204                 United Kingdom 2019-04-19          2019     TV-14   \n",
       "6208                         Canada 2016-04-17          2015     TV-14   \n",
       "\n",
       "     duration                                          listed_in  \\\n",
       "5584      5 s        British TV Shows, Crime TV Shows, TV Dramas   \n",
       "5585      5 s         Classic & Cult TV, TV Horror, TV Mysteries   \n",
       "5594      5 s   Crime TV Shows, TV Action & Adventure, TV Dramas   \n",
       "5608      5 s  International TV Shows, TV Action & Adventure,...   \n",
       "5610      5 s   Crime TV Shows, TV Action & Adventure, TV Dramas   \n",
       "5646      5 s                                          TV Dramas   \n",
       "5648      5 s  British TV Shows, Crime TV Shows, Internationa...   \n",
       "5657      5 s                                         Reality TV   \n",
       "5681      5 s  Crime TV Shows, International TV Shows, TV Com...   \n",
       "5694      5 s                                        TV Comedies   \n",
       "5743      5 s                             Kids' TV, TV Thrillers   \n",
       "5772      5 s                                         Docuseries   \n",
       "5774      5 s                                          TV Dramas   \n",
       "5788      5 s                              Kids' TV, TV Comedies   \n",
       "5789      5 s                                        TV Comedies   \n",
       "5791      5 s              Crime TV Shows, TV Action & Adventure   \n",
       "5800      5 s  Crime TV Shows, TV Action & Adventure, TV Sci-...   \n",
       "5836      5 s                             Anime Series, Kids' TV   \n",
       "5842      5 s            Crime TV Shows, TV Dramas, TV Mysteries   \n",
       "5875      5 s  British TV Shows, International TV Shows, TV D...   \n",
       "5876      5 s                                          TV Dramas   \n",
       "5900      5 s                                        TV Comedies   \n",
       "5913      5 s                             TV Comedies, TV Dramas   \n",
       "5987      5 s                     Classic & Cult TV, TV Comedies   \n",
       "5992      5 s      TV Action & Adventure, TV Comedies, TV Horror   \n",
       "6005      5 s                             TV Comedies, TV Dramas   \n",
       "6024      5 s               Anime Series, International TV Shows   \n",
       "6049      5 s               Crime TV Shows, TV Dramas, TV Horror   \n",
       "6081      5 s                                          TV Dramas   \n",
       "6082      5 s          Stand-Up Comedy & Talk Shows, TV Comedies   \n",
       "6089      5 s                      British TV Shows, TV Comedies   \n",
       "6094      5 s           Classic & Cult TV, Kids' TV, TV Comedies   \n",
       "6106      5 s  British TV Shows, International TV Shows, TV A...   \n",
       "6124      5 s                              Kids' TV, TV Comedies   \n",
       "6129      5 s                  TV Comedies, TV Dramas, TV Horror   \n",
       "6130      5 s                 TV Dramas, TV Horror, TV Mysteries   \n",
       "6131      5 s          Romantic TV Shows, TV Comedies, TV Dramas   \n",
       "6133      5 s                                           Kids' TV   \n",
       "6160      5 s            Crime TV Shows, TV Dramas, TV Thrillers   \n",
       "6162      5 s                                           Kids' TV   \n",
       "6179      5 s  British TV Shows, Classic & Cult TV, Internati...   \n",
       "6194      5 s  Crime TV Shows, International TV Shows, Spanis...   \n",
       "6204      5 s  British TV Shows, International TV Shows, TV C...   \n",
       "6208      5 s                 TV Dramas, TV Horror, TV Mysteries   \n",
       "\n",
       "                                            description  \n",
       "5584  It's been six months since the last Jack the R...  \n",
       "5585  Residents of Haven, Maine, are plagued by supe...  \n",
       "5594  Long before he was commissioner, rookie cop Ja...  \n",
       "5608  When a good deed unwittingly endangers his cla...  \n",
       "5610  Ex-CIA agent John Reese and enigmatic billiona...  \n",
       "5646  This offbeat drama charts the ups and downs of...  \n",
       "5648  A notorious gang in 1919 Birmingham, England, ...  \n",
       "5657  Alex Trebek hosts one of TV's longest-running ...  \n",
       "5681  While Cleaver Greene is a brilliant and driven...  \n",
       "5694  Suddenly broke, the formerly filthy-rich Rose ...  \n",
       "5743  R.L. Stine's tales take on a life of their own...  \n",
       "5772  Producer and narrator Anthony Bourdain explore...  \n",
       "5774  Under God's direction, angel Jonathan and ex-c...  \n",
       "5788  Heartwarming moments are interspersed with bac...  \n",
       "5789  It's the Emmy-winning story of a wealthy famil...  \n",
       "5791  Former Confederate soldier Cullen Bohannon set...  \n",
       "5800  A forensics expert who wakes from a coma with ...  \n",
       "5836  The lives of young Yugi Moto and his friends J...  \n",
       "5842  Brilliant criminal defense attorney and law pr...  \n",
       "5875  This sci-fi anthology series explores a twiste...  \n",
       "5876  When a highly capable woman becomes secretary ...  \n",
       "5900  A female food blogger is hired as a personal c...  \n",
       "5913  After the world learns the truth about her fai...  \n",
       "5987  Hoping to create an American version of their ...  \n",
       "5992  A team embarks on a perilous cross-country mis...  \n",
       "6005  They’re not friends, but when their husbands l...  \n",
       "6024  After both suffer physical damage – brothers E...  \n",
       "6049  When his father dies, Norman Bates and his mot...  \n",
       "6081  Leaving behind her upper-crust city roots, a w...  \n",
       "6082  Scott Aukerman brings his popular podcast Come...  \n",
       "6089  Spinning old-school beats is just another day ...  \n",
       "6094  Pee-wee Herman brings his stage show to the ma...  \n",
       "6106  This family-oriented retelling of the King Art...  \n",
       "6124  In this Emmy winner for Outstanding Children's...  \n",
       "6129  A medical student-turned-zombie tries to retai...  \n",
       "6130  The Mikaelsons move to New Orleans and form an...  \n",
       "6131  After vowing to remain chaste until marriage, ...  \n",
       "6133  The kids of fairy-tale characters attend a sch...  \n",
       "6160  A high school chemistry teacher dying of cance...  \n",
       "6162  Half dinosaur, half construction truck, full-o...  \n",
       "6179  Aided by a tech-illiterate manager, a pair of ...  \n",
       "6194  When her drug-trafficking husband dies, an una...  \n",
       "6204  Rachel shocks her proper British parents when ...  \n",
       "6208  Discovering she's a succubus who sustains hers...  "
      ]
     },
     "execution_count": 136,
     "metadata": {},
     "output_type": "execute_result"
    }
   ],
   "source": [
    "df[df['duration']=='5 s']"
   ]
  },
  {
   "cell_type": "code",
   "execution_count": 137,
   "metadata": {},
   "outputs": [],
   "source": [
    "df['duration']=df['duration'].apply(lambda x: str(x).replace(\"s\",\"\") if 's' in str(x) else str(x))"
   ]
  },
  {
   "cell_type": "code",
   "execution_count": 138,
   "metadata": {},
   "outputs": [],
   "source": [
    "df['duration']=df['duration'].apply(lambda x: float(x))"
   ]
  },
  {
   "cell_type": "markdown",
   "metadata": {},
   "source": [
    "# data viz\n"
   ]
  },
  {
   "cell_type": "code",
   "execution_count": 139,
   "metadata": {},
   "outputs": [],
   "source": [
    "x=df.type.value_counts()\n",
    "y=df.type.unique()"
   ]
  },
  {
   "cell_type": "code",
   "execution_count": 140,
   "metadata": {},
   "outputs": [
    {
     "data": {
      "image/png": "[encoded data removed]",
      "text/plain": [
       "<Figure size 432x432 with 1 Axes>"
      ]
     },
     "metadata": {},
     "output_type": "display_data"
    }
   ],
   "source": [
    "explode=(0,0.1)\n",
    "plt.figure(figsize=(6,6))\n",
    "plt.pie(x,labels=y,autopct='%1.1f%%',explode=explode,shadow=True,startangle=90,colors=[\"#6ad49b\", \"#a678de\"])\n",
    "plt.title(\"Movie vs TV Show on Netflix\",fontsize=15);      \n",
    "plt.show();"
   ]
  },
  {
   "cell_type": "markdown",
   "metadata": {},
   "source": [
    "In this visualization we will try to see the number of small duartion movies (duration< =60 min) , medium duration movie >60 <120, high duration movie (duration>130 mins) that netflix have\n",
    "we will do the same for tv shows as well\n",
    "here we will categorize a TV show with one season as a short tv show, shows with 2-3 season as medium one and with 4 and more as long"
   ]
  },
  {
   "cell_type": "code",
   "execution_count": 141,
   "metadata": {},
   "outputs": [],
   "source": [
    "df_short=df.query('duration <60 and type==\"Movie\"')\n",
    "df_medium=df.query('duration >60 and duration <120 and type==\"Movie\"')\n",
    "df_long=df.query('duration >120 and type==\"Movie\"')\n",
    "\n",
    "df_shorttv=df.query('duration <=1 and type==\"TV Show\"')\n",
    "df_mediumtv=df.query('duration >1 and duration <4 and type==\"TV Show\"')\n",
    "df_longtv=df.query('duration >3 and type==\"TV Show\"')\n"
   ]
  },
  {
   "cell_type": "code",
   "execution_count": 142,
   "metadata": {},
   "outputs": [
    {
     "data": {
      "text/plain": [
       "[282, 2925, 811]"
      ]
     },
     "execution_count": 142,
     "metadata": {},
     "output_type": "execute_result"
    }
   ],
   "source": [
    "x=df_short.title.count()\n",
    "y=df_medium.title.count()\n",
    "z=df_long.title.count()\n",
    "l=[x,y,z]\n",
    "l"
   ]
  },
  {
   "cell_type": "code",
   "execution_count": 143,
   "metadata": {},
   "outputs": [
    {
     "data": {
      "text/plain": [
       "Text(0, 0.5, 'Number of Movies')"
      ]
     },
     "execution_count": 143,
     "metadata": {},
     "output_type": "execute_result"
    },
    {
     "data": {
      "image/png": "[encoded data removed]",
      "text/plain": [
       "<Figure size 432x288 with 1 Axes>"
      ]
     },
     "metadata": {
      "needs_background": "light"
     },
     "output_type": "display_data"
    }
   ],
   "source": [
    "fig = plt.figure()\n",
    "ax = fig.add_axes([0,0,1,1])\n",
    "name=['short','medium','long']\n",
    "ax.bar(name,l, color=['aquamarine','cyan','turquoise'])\n",
    "plt.title('MOVIE DURATION TYPE(short,medium,long)');\n",
    "plt.xlabel('movie duration type',fontsize=15)\n",
    "plt.ylabel('Number of Movies',fontsize=15)"
   ]
  },
  {
   "cell_type": "markdown",
   "metadata": {},
   "source": [
    "from this visualization we can say that most movies in netflix have a duration of 60 to 120 mins."
   ]
  },
  {
   "cell_type": "code",
   "execution_count": 144,
   "metadata": {},
   "outputs": [],
   "source": [
    "df_tv=df.query('type==\"TV Show\"')"
   ]
  },
  {
   "cell_type": "markdown",
   "metadata": {},
   "source": [
    "for tv shows"
   ]
  },
  {
   "cell_type": "code",
   "execution_count": 145,
   "metadata": {},
   "outputs": [],
   "source": [
    "x=df_shorttv.title.count()\n",
    "y=df_mediumtv.title.count()\n",
    "z=df_longtv.title.count()\n",
    "l=[x,y,z]\n"
   ]
  },
  {
   "cell_type": "code",
   "execution_count": 146,
   "metadata": {},
   "outputs": [
    {
     "data": {
      "text/plain": [
       "Text(0, 0.5, 'Number of TV Shows')"
      ]
     },
     "execution_count": 146,
     "metadata": {},
     "output_type": "execute_result"
    },
    {
     "data": {
      "image/png": "[encoded data removed]",
      "text/plain": [
       "<Figure size 432x288 with 1 Axes>"
      ]
     },
     "metadata": {
      "needs_background": "light"
     },
     "output_type": "display_data"
    }
   ],
   "source": [
    "fig = plt.figure()\n",
    "ax = fig.add_axes([0,0,1,1])\n",
    "name=['short(1 S)','medium(2-3 S)','long(4 or more)']\n",
    "ax.bar(name,l, color=['aquamarine','cyan','turquoise'])\n",
    "plt.title('TYPES OF TV SHOWS',fontsize=20)\n",
    "plt.xlabel('TV Show duration type' ,fontsize=15)\n",
    "plt.ylabel('Number of TV Shows', fontsize=15)"
   ]
  },
  {
   "cell_type": "markdown",
   "metadata": {},
   "source": [
    "->This vizualization shows that most TV shows on netflix have 1 season"
   ]
  },
  {
   "cell_type": "markdown",
   "metadata": {},
   "source": [
    "3. This visualization will show the numbers of movie released each year\n"
   ]
  },
  {
   "cell_type": "code",
   "execution_count": 42,
   "metadata": {},
   "outputs": [
    {
     "data": {
      "image/png": "[encoded data removed]",
      "text/plain": [
       "<Figure size 1008x504 with 1 Axes>"
      ]
     },
     "metadata": {
      "needs_background": "light"
     },
     "output_type": "display_data"
    }
   ],
   "source": [
    "plt.figure(figsize=(14,7))\n",
    "num_movies=df['release_year'].value_counts()\n",
    "v=df['release_year'].unique()\n",
    "y=np.arange(1940,2021,3)\n",
    "plt.scatter(v,num_movies)\n",
    "plt.title(\"Movies Released Each Year\",fontsize=15)\n",
    "plt.xlabel(\"Year\",fontsize=15)\n",
    "plt.ylabel(\"No of Movies\",fontsize=15)\n",
    "plt.xticks(ticks=y,rotation=90)\n",
    "plt.show()\n",
    "\n"
   ]
  },
  {
   "cell_type": "markdown",
   "metadata": {},
   "source": [
    "vis"
   ]
  },
  {
   "cell_type": "code",
   "execution_count": 147,
   "metadata": {},
   "outputs": [],
   "source": [
    "df['country']=df['country'].str.split(',')\n",
    "df['listed_in']=df['listed_in'].str.split(',')"
   ]
  },
  {
   "cell_type": "code",
   "execution_count": 148,
   "metadata": {},
   "outputs": [],
   "source": [
    "cf=df.explode('country')\n",
    "cf=cf.explode('listed_in')"
   ]
  },
  {
   "cell_type": "code",
   "execution_count": 149,
   "metadata": {},
   "outputs": [],
   "source": [
    "f=cf.groupby('country',axis=0)"
   ]
  },
  {
   "cell_type": "code",
   "execution_count": 210,
   "metadata": {},
   "outputs": [],
   "source": [
    "x=f.listed_in.agg(lambda x: x.value_counts().index[0]).to_frame()\n",
    "#x=f.listed_in.agg(pd.Series.mode)\n"
   ]
  },
  {
   "cell_type": "code",
   "execution_count": 211,
   "metadata": {},
   "outputs": [
    {
     "data": {
      "text/html": [
       "<div>\n",
       "<style scoped>\n",
       "    .dataframe tbody tr th:only-of-type {\n",
       "        vertical-align: middle;\n",
       "    }\n",
       "\n",
       "    .dataframe tbody tr th {\n",
       "        vertical-align: top;\n",
       "    }\n",
       "\n",
       "    .dataframe thead th {\n",
       "        text-align: right;\n",
       "    }\n",
       "</style>\n",
       "<table border=\"1\" class=\"dataframe\">\n",
       "  <thead>\n",
       "    <tr style=\"text-align: right;\">\n",
       "      <th></th>\n",
       "      <th>country</th>\n",
       "      <th>listed_in</th>\n",
       "    </tr>\n",
       "  </thead>\n",
       "  <tbody>\n",
       "    <tr>\n",
       "      <th>1</th>\n",
       "      <td>Afghanistan</td>\n",
       "      <td>Documentaries</td>\n",
       "    </tr>\n",
       "    <tr>\n",
       "      <th>2</th>\n",
       "      <td>Albania</td>\n",
       "      <td>Dramas</td>\n",
       "    </tr>\n",
       "    <tr>\n",
       "      <th>3</th>\n",
       "      <td>Argentina</td>\n",
       "      <td>International Movies</td>\n",
       "    </tr>\n",
       "    <tr>\n",
       "      <th>4</th>\n",
       "      <td>Armenia</td>\n",
       "      <td>Documentaries</td>\n",
       "    </tr>\n",
       "    <tr>\n",
       "      <th>5</th>\n",
       "      <td>Australia</td>\n",
       "      <td>Dramas</td>\n",
       "    </tr>\n",
       "    <tr>\n",
       "      <th>...</th>\n",
       "      <td>...</td>\n",
       "      <td>...</td>\n",
       "    </tr>\n",
       "    <tr>\n",
       "      <th>168</th>\n",
       "      <td>United States</td>\n",
       "      <td>Documentaries</td>\n",
       "    </tr>\n",
       "    <tr>\n",
       "      <th>169</th>\n",
       "      <td>Uruguay</td>\n",
       "      <td>International Movies</td>\n",
       "    </tr>\n",
       "    <tr>\n",
       "      <th>170</th>\n",
       "      <td>Venezuela</td>\n",
       "      <td>Documentaries</td>\n",
       "    </tr>\n",
       "    <tr>\n",
       "      <th>171</th>\n",
       "      <td>Vietnam</td>\n",
       "      <td>International Movies</td>\n",
       "    </tr>\n",
       "    <tr>\n",
       "      <th>172</th>\n",
       "      <td>West Germany</td>\n",
       "      <td>Documentaries</td>\n",
       "    </tr>\n",
       "  </tbody>\n",
       "</table>\n",
       "<p>172 rows × 2 columns</p>\n",
       "</div>"
      ],
      "text/plain": [
       "           country              listed_in\n",
       "1      Afghanistan          Documentaries\n",
       "2          Albania                 Dramas\n",
       "3        Argentina   International Movies\n",
       "4          Armenia          Documentaries\n",
       "5        Australia                 Dramas\n",
       "..             ...                    ...\n",
       "168  United States          Documentaries\n",
       "169        Uruguay   International Movies\n",
       "170      Venezuela          Documentaries\n",
       "171        Vietnam   International Movies\n",
       "172   West Germany          Documentaries\n",
       "\n",
       "[172 rows x 2 columns]"
      ]
     },
     "execution_count": 211,
     "metadata": {},
     "output_type": "execute_result"
    }
   ],
   "source": [
    "x.reset_index(level=0,inplace=True)\n",
    "x.drop(0,inplace=True)\n",
    "x"
   ]
  },
  {
   "cell_type": "markdown",
   "metadata": {},
   "source": [
    "this data tells us about the most popular category of Netflix tv shows and movies in each country."
   ]
  },
  {
   "cell_type": "markdown",
   "metadata": {},
   "source": [
    "Now,let's see which is genre has the highest number of movies/Tv Shows in our country India"
   ]
  },
  {
   "cell_type": "code",
   "execution_count": 154,
   "metadata": {},
   "outputs": [
    {
     "data": {
      "text/html": [
       "<div>\n",
       "<style scoped>\n",
       "    .dataframe tbody tr th:only-of-type {\n",
       "        vertical-align: middle;\n",
       "    }\n",
       "\n",
       "    .dataframe tbody tr th {\n",
       "        vertical-align: top;\n",
       "    }\n",
       "\n",
       "    .dataframe thead th {\n",
       "        text-align: right;\n",
       "    }\n",
       "</style>\n",
       "<table border=\"1\" class=\"dataframe\">\n",
       "  <thead>\n",
       "    <tr style=\"text-align: right;\">\n",
       "      <th></th>\n",
       "      <th>country</th>\n",
       "      <th>listed_in</th>\n",
       "    </tr>\n",
       "  </thead>\n",
       "  <tbody>\n",
       "    <tr>\n",
       "      <th>128</th>\n",
       "      <td>India</td>\n",
       "      <td>International Movies</td>\n",
       "    </tr>\n",
       "  </tbody>\n",
       "</table>\n",
       "</div>"
      ],
      "text/plain": [
       "    country              listed_in\n",
       "128   India   International Movies"
      ]
     },
     "execution_count": 154,
     "metadata": {},
     "output_type": "execute_result"
    }
   ],
   "source": [
    "x.query('country==\"India\"')"
   ]
  },
  {
   "cell_type": "markdown",
   "metadata": {},
   "source": [
    "Its safe to say that the genre of \"International movies\" is quite popular in India. Now, let's see the top popular genre of India(based on number of tv shows or movies)"
   ]
  },
  {
   "cell_type": "code",
   "execution_count": 225,
   "metadata": {},
   "outputs": [
    {
     "data": {
      "text/plain": [
       "<AxesSubplot:title={'center':'Top 20 Genre In India'}, xlabel='Count', ylabel='Genre'>"
      ]
     },
     "execution_count": 225,
     "metadata": {},
     "output_type": "execute_result"
    },
    {
     "data": {
      "image/png": "[encoded data removed]",
      "text/plain": [
       "<Figure size 720x576 with 1 Axes>"
      ]
     },
     "metadata": {
      "needs_background": "light"
     },
     "output_type": "display_data"
    }
   ],
   "source": [
    "import seaborn as sns\n",
    "g=cf.query('country==\"India\"')['listed_in'].value_counts()[0:20]\n",
    "plt.figure(figsize=(10,8))\n",
    "plt.title(\"Top 20 Genre In India\")\n",
    "ff=pd.DataFrame({'Genre':g.index,'Count':g.values})\n",
    "sns.barplot(x='Count', y = 'Genre', data=ff)"
   ]
  },
  {
   "cell_type": "markdown",
   "metadata": {},
   "source": [
    "Top genre worldwide"
   ]
  },
  {
   "cell_type": "code",
   "execution_count": 226,
   "metadata": {},
   "outputs": [
    {
     "data": {
      "application/vnd.plotly.v1+json": {
       "config": {
        "plotlyServerURL": "https://plot.ly"
       },
       "data": [
        {
         "hovertemplate": "variable=listed_in<br>value=%{x}<br>index=%{y}<extra></extra>",
         "legendgroup": "listed_in",
         "marker": {
          "color": "#636efa"
         },
         "name": "listed_in",
         "orientation": "h",
         "showlegend": true,
         "type": "funnel",
         "x": [
          2328,
          1436,
          894,
          802,
          796
         ],
         "xaxis": "x",
         "y": [
          " International Movies",
          "Dramas",
          "Comedies",
          "Action & Adventure",
          "Documentaries"
         ],
         "yaxis": "y"
        }
       ],
       "layout": {
        "legend": {
         "title": {
          "text": "variable"
         },
         "tracegroupgap": 0
        },
        "margin": {
         "t": 60
        },
        "template": {
         "data": {
          "bar": [
           {
            "error_x": {
             "color": "#2a3f5f"
            },
            "error_y": {
             "color": "#2a3f5f"
            },
            "marker": {
             "line": {
              "color": "#E5ECF6",
              "width": 0.5
             }
            },
            "type": "bar"
           }
          ],
          "barpolar": [
           {
            "marker": {
             "line": {
              "color": "#E5ECF6",
              "width": 0.5
             }
            },
            "type": "barpolar"
           }
          ],
          "carpet": [
           {
            "aaxis": {
             "endlinecolor": "#2a3f5f",
             "gridcolor": "white",
             "linecolor": "white",
             "minorgridcolor": "white",
             "startlinecolor": "#2a3f5f"
            },
            "baxis": {
             "endlinecolor": "#2a3f5f",
             "gridcolor": "white",
             "linecolor": "white",
             "minorgridcolor": "white",
             "startlinecolor": "#2a3f5f"
            },
            "type": "carpet"
           }
          ],
          "choropleth": [
           {
            "colorbar": {
             "outlinewidth": 0,
             "ticks": ""
            },
            "type": "choropleth"
           }
          ],
          "contour": [
           {
            "colorbar": {
             "outlinewidth": 0,
             "ticks": ""
            },
            "colorscale": [
             [
              0,
              "#0d0887"
             ],
             [
              0.1111111111111111,
              "#46039f"
             ],
             [
              0.2222222222222222,
              "#7201a8"
             ],
             [
              0.3333333333333333,
              "#9c179e"
             ],
             [
              0.4444444444444444,
              "#bd3786"
             ],
             [
              0.5555555555555556,
              "#d8576b"
             ],
             [
              0.6666666666666666,
              "#ed7953"
             ],
             [
              0.7777777777777778,
              "#fb9f3a"
             ],
             [
              0.8888888888888888,
              "#fdca26"
             ],
             [
              1,
              "#f0f921"
             ]
            ],
            "type": "contour"
           }
          ],
          "contourcarpet": [
           {
            "colorbar": {
             "outlinewidth": 0,
             "ticks": ""
            },
            "type": "contourcarpet"
           }
          ],
          "heatmap": [
           {
            "colorbar": {
             "outlinewidth": 0,
             "ticks": ""
            },
            "colorscale": [
             [
              0,
              "#0d0887"
             ],
             [
              0.1111111111111111,
              "#46039f"
             ],
             [
              0.2222222222222222,
              "#7201a8"
             ],
             [
              0.3333333333333333,
              "#9c179e"
             ],
             [
              0.4444444444444444,
              "#bd3786"
             ],
             [
              0.5555555555555556,
              "#d8576b"
             ],
             [
              0.6666666666666666,
              "#ed7953"
             ],
             [
              0.7777777777777778,
              "#fb9f3a"
             ],
             [
              0.8888888888888888,
              "#fdca26"
             ],
             [
              1,
              "#f0f921"
             ]
            ],
            "type": "heatmap"
           }
          ],
          "heatmapgl": [
           {
            "colorbar": {
             "outlinewidth": 0,
             "ticks": ""
            },
            "colorscale": [
             [
              0,
              "#0d0887"
             ],
             [
              0.1111111111111111,
              "#46039f"
             ],
             [
              0.2222222222222222,
              "#7201a8"
             ],
             [
              0.3333333333333333,
              "#9c179e"
             ],
             [
              0.4444444444444444,
              "#bd3786"
             ],
             [
              0.5555555555555556,
              "#d8576b"
             ],
             [
              0.6666666666666666,
              "#ed7953"
             ],
             [
              0.7777777777777778,
              "#fb9f3a"
             ],
             [
              0.8888888888888888,
              "#fdca26"
             ],
             [
              1,
              "#f0f921"
             ]
            ],
            "type": "heatmapgl"
           }
          ],
          "histogram": [
           {
            "marker": {
             "colorbar": {
              "outlinewidth": 0,
              "ticks": ""
             }
            },
            "type": "histogram"
           }
          ],
          "histogram2d": [
           {
            "colorbar": {
             "outlinewidth": 0,
             "ticks": ""
            },
            "colorscale": [
             [
              0,
              "#0d0887"
             ],
             [
              0.1111111111111111,
              "#46039f"
             ],
             [
              0.2222222222222222,
              "#7201a8"
             ],
             [
              0.3333333333333333,
              "#9c179e"
             ],
             [
              0.4444444444444444,
              "#bd3786"
             ],
             [
              0.5555555555555556,
              "#d8576b"
             ],
             [
              0.6666666666666666,
              "#ed7953"
             ],
             [
              0.7777777777777778,
              "#fb9f3a"
             ],
             [
              0.8888888888888888,
              "#fdca26"
             ],
             [
              1,
              "#f0f921"
             ]
            ],
            "type": "histogram2d"
           }
          ],
          "histogram2dcontour": [
           {
            "colorbar": {
             "outlinewidth": 0,
             "ticks": ""
            },
            "colorscale": [
             [
              0,
              "#0d0887"
             ],
             [
              0.1111111111111111,
              "#46039f"
             ],
             [
              0.2222222222222222,
              "#7201a8"
             ],
             [
              0.3333333333333333,
              "#9c179e"
             ],
             [
              0.4444444444444444,
              "#bd3786"
             ],
             [
              0.5555555555555556,
              "#d8576b"
             ],
             [
              0.6666666666666666,
              "#ed7953"
             ],
             [
              0.7777777777777778,
              "#fb9f3a"
             ],
             [
              0.8888888888888888,
              "#fdca26"
             ],
             [
              1,
              "#f0f921"
             ]
            ],
            "type": "histogram2dcontour"
           }
          ],
          "mesh3d": [
           {
            "colorbar": {
             "outlinewidth": 0,
             "ticks": ""
            },
            "type": "mesh3d"
           }
          ],
          "parcoords": [
           {
            "line": {
             "colorbar": {
              "outlinewidth": 0,
              "ticks": ""
             }
            },
            "type": "parcoords"
           }
          ],
          "pie": [
           {
            "automargin": true,
            "type": "pie"
           }
          ],
          "scatter": [
           {
            "marker": {
             "colorbar": {
              "outlinewidth": 0,
              "ticks": ""
             }
            },
            "type": "scatter"
           }
          ],
          "scatter3d": [
           {
            "line": {
             "colorbar": {
              "outlinewidth": 0,
              "ticks": ""
             }
            },
            "marker": {
             "colorbar": {
              "outlinewidth": 0,
              "ticks": ""
             }
            },
            "type": "scatter3d"
           }
          ],
          "scattercarpet": [
           {
            "marker": {
             "colorbar": {
              "outlinewidth": 0,
              "ticks": ""
             }
            },
            "type": "scattercarpet"
           }
          ],
          "scattergeo": [
           {
            "marker": {
             "colorbar": {
              "outlinewidth": 0,
              "ticks": ""
             }
            },
            "type": "scattergeo"
           }
          ],
          "scattergl": [
           {
            "marker": {
             "colorbar": {
              "outlinewidth": 0,
              "ticks": ""
             }
            },
            "type": "scattergl"
           }
          ],
          "scattermapbox": [
           {
            "marker": {
             "colorbar": {
              "outlinewidth": 0,
              "ticks": ""
             }
            },
            "type": "scattermapbox"
           }
          ],
          "scatterpolar": [
           {
            "marker": {
             "colorbar": {
              "outlinewidth": 0,
              "ticks": ""
             }
            },
            "type": "scatterpolar"
           }
          ],
          "scatterpolargl": [
           {
            "marker": {
             "colorbar": {
              "outlinewidth": 0,
              "ticks": ""
             }
            },
            "type": "scatterpolargl"
           }
          ],
          "scatterternary": [
           {
            "marker": {
             "colorbar": {
              "outlinewidth": 0,
              "ticks": ""
             }
            },
            "type": "scatterternary"
           }
          ],
          "surface": [
           {
            "colorbar": {
             "outlinewidth": 0,
             "ticks": ""
            },
            "colorscale": [
             [
              0,
              "#0d0887"
             ],
             [
              0.1111111111111111,
              "#46039f"
             ],
             [
              0.2222222222222222,
              "#7201a8"
             ],
             [
              0.3333333333333333,
              "#9c179e"
             ],
             [
              0.4444444444444444,
              "#bd3786"
             ],
             [
              0.5555555555555556,
              "#d8576b"
             ],
             [
              0.6666666666666666,
              "#ed7953"
             ],
             [
              0.7777777777777778,
              "#fb9f3a"
             ],
             [
              0.8888888888888888,
              "#fdca26"
             ],
             [
              1,
              "#f0f921"
             ]
            ],
            "type": "surface"
           }
          ],
          "table": [
           {
            "cells": {
             "fill": {
              "color": "#EBF0F8"
             },
             "line": {
              "color": "white"
             }
            },
            "header": {
             "fill": {
              "color": "#C8D4E3"
             },
             "line": {
              "color": "white"
             }
            },
            "type": "table"
           }
          ]
         },
         "layout": {
          "annotationdefaults": {
           "arrowcolor": "#2a3f5f",
           "arrowhead": 0,
           "arrowwidth": 1
          },
          "autotypenumbers": "strict",
          "coloraxis": {
           "colorbar": {
            "outlinewidth": 0,
            "ticks": ""
           }
          },
          "colorscale": {
           "diverging": [
            [
             0,
             "#8e0152"
            ],
            [
             0.1,
             "#c51b7d"
            ],
            [
             0.2,
             "#de77ae"
            ],
            [
             0.3,
             "#f1b6da"
            ],
            [
             0.4,
             "#fde0ef"
            ],
            [
             0.5,
             "#f7f7f7"
            ],
            [
             0.6,
             "#e6f5d0"
            ],
            [
             0.7,
             "#b8e186"
            ],
            [
             0.8,
             "#7fbc41"
            ],
            [
             0.9,
             "#4d9221"
            ],
            [
             1,
             "#276419"
            ]
           ],
           "sequential": [
            [
             0,
             "#0d0887"
            ],
            [
             0.1111111111111111,
             "#46039f"
            ],
            [
             0.2222222222222222,
             "#7201a8"
            ],
            [
             0.3333333333333333,
             "#9c179e"
            ],
            [
             0.4444444444444444,
             "#bd3786"
            ],
            [
             0.5555555555555556,
             "#d8576b"
            ],
            [
             0.6666666666666666,
             "#ed7953"
            ],
            [
             0.7777777777777778,
             "#fb9f3a"
            ],
            [
             0.8888888888888888,
             "#fdca26"
            ],
            [
             1,
             "#f0f921"
            ]
           ],
           "sequentialminus": [
            [
             0,
             "#0d0887"
            ],
            [
             0.1111111111111111,
             "#46039f"
            ],
            [
             0.2222222222222222,
             "#7201a8"
            ],
            [
             0.3333333333333333,
             "#9c179e"
            ],
            [
             0.4444444444444444,
             "#bd3786"
            ],
            [
             0.5555555555555556,
             "#d8576b"
            ],
            [
             0.6666666666666666,
             "#ed7953"
            ],
            [
             0.7777777777777778,
             "#fb9f3a"
            ],
            [
             0.8888888888888888,
             "#fdca26"
            ],
            [
             1,
             "#f0f921"
            ]
           ]
          },
          "colorway": [
           "#636efa",
           "#EF553B",
           "#00cc96",
           "#ab63fa",
           "#FFA15A",
           "#19d3f3",
           "#FF6692",
           "#B6E880",
           "#FF97FF",
           "#FECB52"
          ],
          "font": {
           "color": "#2a3f5f"
          },
          "geo": {
           "bgcolor": "white",
           "lakecolor": "white",
           "landcolor": "#E5ECF6",
           "showlakes": true,
           "showland": true,
           "subunitcolor": "white"
          },
          "hoverlabel": {
           "align": "left"
          },
          "hovermode": "closest",
          "mapbox": {
           "style": "light"
          },
          "paper_bgcolor": "white",
          "plot_bgcolor": "#E5ECF6",
          "polar": {
           "angularaxis": {
            "gridcolor": "white",
            "linecolor": "white",
            "ticks": ""
           },
           "bgcolor": "#E5ECF6",
           "radialaxis": {
            "gridcolor": "white",
            "linecolor": "white",
            "ticks": ""
           }
          },
          "scene": {
           "xaxis": {
            "backgroundcolor": "#E5ECF6",
            "gridcolor": "white",
            "gridwidth": 2,
            "linecolor": "white",
            "showbackground": true,
            "ticks": "",
            "zerolinecolor": "white"
           },
           "yaxis": {
            "backgroundcolor": "#E5ECF6",
            "gridcolor": "white",
            "gridwidth": 2,
            "linecolor": "white",
            "showbackground": true,
            "ticks": "",
            "zerolinecolor": "white"
           },
           "zaxis": {
            "backgroundcolor": "#E5ECF6",
            "gridcolor": "white",
            "gridwidth": 2,
            "linecolor": "white",
            "showbackground": true,
            "ticks": "",
            "zerolinecolor": "white"
           }
          },
          "shapedefaults": {
           "line": {
            "color": "#2a3f5f"
           }
          },
          "ternary": {
           "aaxis": {
            "gridcolor": "white",
            "linecolor": "white",
            "ticks": ""
           },
           "baxis": {
            "gridcolor": "white",
            "linecolor": "white",
            "ticks": ""
           },
           "bgcolor": "#E5ECF6",
           "caxis": {
            "gridcolor": "white",
            "linecolor": "white",
            "ticks": ""
           }
          },
          "title": {
           "x": 0.05
          },
          "xaxis": {
           "automargin": true,
           "gridcolor": "white",
           "linecolor": "white",
           "ticks": "",
           "title": {
            "standoff": 15
           },
           "zerolinecolor": "white",
           "zerolinewidth": 2
          },
          "yaxis": {
           "automargin": true,
           "gridcolor": "white",
           "linecolor": "white",
           "ticks": "",
           "title": {
            "standoff": 15
           },
           "zerolinecolor": "white",
           "zerolinewidth": 2
          }
         }
        },
        "xaxis": {
         "anchor": "y",
         "domain": [
          0,
          1
         ],
         "title": {
          "text": "value"
         }
        },
        "yaxis": {
         "anchor": "x",
         "domain": [
          0,
          1
         ],
         "title": {
          "text": "index"
         }
        }
       }
      },
      "text/html": [
       "<div>                            <div id=\"4f851639-a9d3-4223-8b05-a6fafeabd6f3\" class=\"plotly-graph-div\" style=\"height:525px; width:100%;\"></div>            <script type=\"text/javascript\">                require([\"plotly\"], function(Plotly) {                    window.PLOTLYENV=window.PLOTLYENV || {};                                    if (document.getElementById(\"4f851639-a9d3-4223-8b05-a6fafeabd6f3\")) {                    Plotly.newPlot(                        \"4f851639-a9d3-4223-8b05-a6fafeabd6f3\",                        [{\"hovertemplate\": \"variable=listed_in<br>value=%{x}<br>index=%{y}<extra></extra>\", \"legendgroup\": \"listed_in\", \"marker\": {\"color\": \"#636efa\"}, \"name\": \"listed_in\", \"orientation\": \"h\", \"showlegend\": true, \"type\": \"funnel\", \"x\": [2328, 1436, 894, 802, 796], \"xaxis\": \"x\", \"y\": [\" International Movies\", \"Dramas\", \"Comedies\", \"Action & Adventure\", \"Documentaries\"], \"yaxis\": \"y\"}],                        {\"legend\": {\"title\": {\"text\": \"variable\"}, \"tracegroupgap\": 0}, \"margin\": {\"t\": 60}, \"template\": {\"data\": {\"bar\": [{\"error_x\": {\"color\": \"#2a3f5f\"}, \"error_y\": {\"color\": \"#2a3f5f\"}, \"marker\": {\"line\": {\"color\": \"#E5ECF6\", \"width\": 0.5}}, \"type\": \"bar\"}], \"barpolar\": [{\"marker\": {\"line\": {\"color\": \"#E5ECF6\", \"width\": 0.5}}, \"type\": \"barpolar\"}], \"carpet\": [{\"aaxis\": {\"endlinecolor\": \"#2a3f5f\", \"gridcolor\": \"white\", \"linecolor\": \"white\", \"minorgridcolor\": \"white\", \"startlinecolor\": \"#2a3f5f\"}, \"baxis\": {\"endlinecolor\": \"#2a3f5f\", \"gridcolor\": \"white\", \"linecolor\": \"white\", \"minorgridcolor\": \"white\", \"startlinecolor\": \"#2a3f5f\"}, \"type\": \"carpet\"}], \"choropleth\": [{\"colorbar\": {\"outlinewidth\": 0, \"ticks\": \"\"}, \"type\": \"choropleth\"}], \"contour\": [{\"colorbar\": {\"outlinewidth\": 0, \"ticks\": \"\"}, \"colorscale\": [[0.0, \"#0d0887\"], [0.1111111111111111, \"#46039f\"], [0.2222222222222222, \"#7201a8\"], [0.3333333333333333, \"#9c179e\"], [0.4444444444444444, \"#bd3786\"], [0.5555555555555556, \"#d8576b\"], [0.6666666666666666, \"#ed7953\"], [0.7777777777777778, \"#fb9f3a\"], [0.8888888888888888, \"#fdca26\"], [1.0, \"#f0f921\"]], \"type\": \"contour\"}], \"contourcarpet\": [{\"colorbar\": {\"outlinewidth\": 0, \"ticks\": \"\"}, \"type\": \"contourcarpet\"}], \"heatmap\": [{\"colorbar\": {\"outlinewidth\": 0, \"ticks\": \"\"}, \"colorscale\": [[0.0, \"#0d0887\"], [0.1111111111111111, \"#46039f\"], [0.2222222222222222, \"#7201a8\"], [0.3333333333333333, \"#9c179e\"], [0.4444444444444444, \"#bd3786\"], [0.5555555555555556, \"#d8576b\"], [0.6666666666666666, \"#ed7953\"], [0.7777777777777778, \"#fb9f3a\"], [0.8888888888888888, \"#fdca26\"], [1.0, \"#f0f921\"]], \"type\": \"heatmap\"}], \"heatmapgl\": [{\"colorbar\": {\"outlinewidth\": 0, \"ticks\": \"\"}, \"colorscale\": [[0.0, \"#0d0887\"], [0.1111111111111111, \"#46039f\"], [0.2222222222222222, \"#7201a8\"], [0.3333333333333333, \"#9c179e\"], [0.4444444444444444, \"#bd3786\"], [0.5555555555555556, \"#d8576b\"], [0.6666666666666666, \"#ed7953\"], [0.7777777777777778, \"#fb9f3a\"], [0.8888888888888888, \"#fdca26\"], [1.0, \"#f0f921\"]], \"type\": \"heatmapgl\"}], \"histogram\": [{\"marker\": {\"colorbar\": {\"outlinewidth\": 0, \"ticks\": \"\"}}, \"type\": \"histogram\"}], \"histogram2d\": [{\"colorbar\": {\"outlinewidth\": 0, \"ticks\": \"\"}, \"colorscale\": [[0.0, \"#0d0887\"], [0.1111111111111111, \"#46039f\"], [0.2222222222222222, \"#7201a8\"], [0.3333333333333333, \"#9c179e\"], [0.4444444444444444, \"#bd3786\"], [0.5555555555555556, \"#d8576b\"], [0.6666666666666666, \"#ed7953\"], [0.7777777777777778, \"#fb9f3a\"], [0.8888888888888888, \"#fdca26\"], [1.0, \"#f0f921\"]], \"type\": \"histogram2d\"}], \"histogram2dcontour\": [{\"colorbar\": {\"outlinewidth\": 0, \"ticks\": \"\"}, \"colorscale\": [[0.0, \"#0d0887\"], [0.1111111111111111, \"#46039f\"], [0.2222222222222222, \"#7201a8\"], [0.3333333333333333, \"#9c179e\"], [0.4444444444444444, \"#bd3786\"], [0.5555555555555556, \"#d8576b\"], [0.6666666666666666, \"#ed7953\"], [0.7777777777777778, \"#fb9f3a\"], [0.8888888888888888, \"#fdca26\"], [1.0, \"#f0f921\"]], \"type\": \"histogram2dcontour\"}], \"mesh3d\": [{\"colorbar\": {\"outlinewidth\": 0, \"ticks\": \"\"}, \"type\": \"mesh3d\"}], \"parcoords\": [{\"line\": {\"colorbar\": {\"outlinewidth\": 0, \"ticks\": \"\"}}, \"type\": \"parcoords\"}], \"pie\": [{\"automargin\": true, \"type\": \"pie\"}], \"scatter\": [{\"marker\": {\"colorbar\": {\"outlinewidth\": 0, \"ticks\": \"\"}}, \"type\": \"scatter\"}], \"scatter3d\": [{\"line\": {\"colorbar\": {\"outlinewidth\": 0, \"ticks\": \"\"}}, \"marker\": {\"colorbar\": {\"outlinewidth\": 0, \"ticks\": \"\"}}, \"type\": \"scatter3d\"}], \"scattercarpet\": [{\"marker\": {\"colorbar\": {\"outlinewidth\": 0, \"ticks\": \"\"}}, \"type\": \"scattercarpet\"}], \"scattergeo\": [{\"marker\": {\"colorbar\": {\"outlinewidth\": 0, \"ticks\": \"\"}}, \"type\": \"scattergeo\"}], \"scattergl\": [{\"marker\": {\"colorbar\": {\"outlinewidth\": 0, \"ticks\": \"\"}}, \"type\": \"scattergl\"}], \"scattermapbox\": [{\"marker\": {\"colorbar\": {\"outlinewidth\": 0, \"ticks\": \"\"}}, \"type\": \"scattermapbox\"}], \"scatterpolar\": [{\"marker\": {\"colorbar\": {\"outlinewidth\": 0, \"ticks\": \"\"}}, \"type\": \"scatterpolar\"}], \"scatterpolargl\": [{\"marker\": {\"colorbar\": {\"outlinewidth\": 0, \"ticks\": \"\"}}, \"type\": \"scatterpolargl\"}], \"scatterternary\": [{\"marker\": {\"colorbar\": {\"outlinewidth\": 0, \"ticks\": \"\"}}, \"type\": \"scatterternary\"}], \"surface\": [{\"colorbar\": {\"outlinewidth\": 0, \"ticks\": \"\"}, \"colorscale\": [[0.0, \"#0d0887\"], [0.1111111111111111, \"#46039f\"], [0.2222222222222222, \"#7201a8\"], [0.3333333333333333, \"#9c179e\"], [0.4444444444444444, \"#bd3786\"], [0.5555555555555556, \"#d8576b\"], [0.6666666666666666, \"#ed7953\"], [0.7777777777777778, \"#fb9f3a\"], [0.8888888888888888, \"#fdca26\"], [1.0, \"#f0f921\"]], \"type\": \"surface\"}], \"table\": [{\"cells\": {\"fill\": {\"color\": \"#EBF0F8\"}, \"line\": {\"color\": \"white\"}}, \"header\": {\"fill\": {\"color\": \"#C8D4E3\"}, \"line\": {\"color\": \"white\"}}, \"type\": \"table\"}]}, \"layout\": {\"annotationdefaults\": {\"arrowcolor\": \"#2a3f5f\", \"arrowhead\": 0, \"arrowwidth\": 1}, \"autotypenumbers\": \"strict\", \"coloraxis\": {\"colorbar\": {\"outlinewidth\": 0, \"ticks\": \"\"}}, \"colorscale\": {\"diverging\": [[0, \"#8e0152\"], [0.1, \"#c51b7d\"], [0.2, \"#de77ae\"], [0.3, \"#f1b6da\"], [0.4, \"#fde0ef\"], [0.5, \"#f7f7f7\"], [0.6, \"#e6f5d0\"], [0.7, \"#b8e186\"], [0.8, \"#7fbc41\"], [0.9, \"#4d9221\"], [1, \"#276419\"]], \"sequential\": [[0.0, \"#0d0887\"], [0.1111111111111111, \"#46039f\"], [0.2222222222222222, \"#7201a8\"], [0.3333333333333333, \"#9c179e\"], [0.4444444444444444, \"#bd3786\"], [0.5555555555555556, \"#d8576b\"], [0.6666666666666666, \"#ed7953\"], [0.7777777777777778, \"#fb9f3a\"], [0.8888888888888888, \"#fdca26\"], [1.0, \"#f0f921\"]], \"sequentialminus\": [[0.0, \"#0d0887\"], [0.1111111111111111, \"#46039f\"], [0.2222222222222222, \"#7201a8\"], [0.3333333333333333, \"#9c179e\"], [0.4444444444444444, \"#bd3786\"], [0.5555555555555556, \"#d8576b\"], [0.6666666666666666, \"#ed7953\"], [0.7777777777777778, \"#fb9f3a\"], [0.8888888888888888, \"#fdca26\"], [1.0, \"#f0f921\"]]}, \"colorway\": [\"#636efa\", \"#EF553B\", \"#00cc96\", \"#ab63fa\", \"#FFA15A\", \"#19d3f3\", \"#FF6692\", \"#B6E880\", \"#FF97FF\", \"#FECB52\"], \"font\": {\"color\": \"#2a3f5f\"}, \"geo\": {\"bgcolor\": \"white\", \"lakecolor\": \"white\", \"landcolor\": \"#E5ECF6\", \"showlakes\": true, \"showland\": true, \"subunitcolor\": \"white\"}, \"hoverlabel\": {\"align\": \"left\"}, \"hovermode\": \"closest\", \"mapbox\": {\"style\": \"light\"}, \"paper_bgcolor\": \"white\", \"plot_bgcolor\": \"#E5ECF6\", \"polar\": {\"angularaxis\": {\"gridcolor\": \"white\", \"linecolor\": \"white\", \"ticks\": \"\"}, \"bgcolor\": \"#E5ECF6\", \"radialaxis\": {\"gridcolor\": \"white\", \"linecolor\": \"white\", \"ticks\": \"\"}}, \"scene\": {\"xaxis\": {\"backgroundcolor\": \"#E5ECF6\", \"gridcolor\": \"white\", \"gridwidth\": 2, \"linecolor\": \"white\", \"showbackground\": true, \"ticks\": \"\", \"zerolinecolor\": \"white\"}, \"yaxis\": {\"backgroundcolor\": \"#E5ECF6\", \"gridcolor\": \"white\", \"gridwidth\": 2, \"linecolor\": \"white\", \"showbackground\": true, \"ticks\": \"\", \"zerolinecolor\": \"white\"}, \"zaxis\": {\"backgroundcolor\": \"#E5ECF6\", \"gridcolor\": \"white\", \"gridwidth\": 2, \"linecolor\": \"white\", \"showbackground\": true, \"ticks\": \"\", \"zerolinecolor\": \"white\"}}, \"shapedefaults\": {\"line\": {\"color\": \"#2a3f5f\"}}, \"ternary\": {\"aaxis\": {\"gridcolor\": \"white\", \"linecolor\": \"white\", \"ticks\": \"\"}, \"baxis\": {\"gridcolor\": \"white\", \"linecolor\": \"white\", \"ticks\": \"\"}, \"bgcolor\": \"#E5ECF6\", \"caxis\": {\"gridcolor\": \"white\", \"linecolor\": \"white\", \"ticks\": \"\"}}, \"title\": {\"x\": 0.05}, \"xaxis\": {\"automargin\": true, \"gridcolor\": \"white\", \"linecolor\": \"white\", \"ticks\": \"\", \"title\": {\"standoff\": 15}, \"zerolinecolor\": \"white\", \"zerolinewidth\": 2}, \"yaxis\": {\"automargin\": true, \"gridcolor\": \"white\", \"linecolor\": \"white\", \"ticks\": \"\", \"title\": {\"standoff\": 15}, \"zerolinecolor\": \"white\", \"zerolinewidth\": 2}}}, \"xaxis\": {\"anchor\": \"y\", \"domain\": [0.0, 1.0], \"title\": {\"text\": \"value\"}}, \"yaxis\": {\"anchor\": \"x\", \"domain\": [0.0, 1.0], \"title\": {\"text\": \"index\"}}},                        {\"responsive\": true}                    ).then(function(){\n",
       "                            \n",
       "var gd = document.getElementById('4f851639-a9d3-4223-8b05-a6fafeabd6f3');\n",
       "var x = new MutationObserver(function (mutations, observer) {{\n",
       "        var display = window.getComputedStyle(gd).display;\n",
       "        if (!display || display === 'none') {{\n",
       "            console.log([gd, 'removed!']);\n",
       "            Plotly.purge(gd);\n",
       "            observer.disconnect();\n",
       "        }}\n",
       "}});\n",
       "\n",
       "// Listen for the removal of the full notebook cells\n",
       "var notebookContainer = gd.closest('#notebook-container');\n",
       "if (notebookContainer) {{\n",
       "    x.observe(notebookContainer, {childList: true});\n",
       "}}\n",
       "\n",
       "// Listen for the clearing of the current output cell\n",
       "var outputEl = gd.closest('.output');\n",
       "if (outputEl) {{\n",
       "    x.observe(outputEl, {childList: true});\n",
       "}}\n",
       "\n",
       "                        })                };                });            </script>        </div>"
      ]
     },
     "metadata": {},
     "output_type": "display_data"
    }
   ],
   "source": [
    "topgenre = cf['listed_in'].value_counts().sort_values(ascending=False)\n",
    "topgenre = pd.DataFrame(topgenre)\n",
    "c = topgenre[0:5]\n",
    "px.funnel(c)"
   ]
  },
  {
   "cell_type": "code",
   "execution_count": null,
   "metadata": {},
   "outputs": [],
   "source": []
  }
 ],
 "metadata": {
  "kernelspec": {
   "display_name": "Python 3",
   "language": "python",
   "name": "python3"
  },
  "language_info": {
   "codemirror_mode": {
    "name": "ipython",
    "version": 3
   },
   "file_extension": ".py",
   "mimetype": "text/x-python",
   "name": "python",
   "nbconvert_exporter": "python",
   "pygments_lexer": "ipython3",
   "version": "3.7.3"
  }
 },
 "nbformat": 4,
 "nbformat_minor": 2
}
